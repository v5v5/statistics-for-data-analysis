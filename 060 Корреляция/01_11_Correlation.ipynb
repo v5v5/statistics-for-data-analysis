{
 "cells": [
  {
   "cell_type": "markdown",
   "metadata": {},
   "source": [
    "# Корреляция"
   ]
  },
  {
   "cell_type": "code",
   "execution_count": 1,
   "metadata": {},
   "outputs": [
    {
     "data": {
      "text/html": [
       "<div>\n",
       "<style scoped>\n",
       "    .dataframe tbody tr th:only-of-type {\n",
       "        vertical-align: middle;\n",
       "    }\n",
       "\n",
       "    .dataframe tbody tr th {\n",
       "        vertical-align: top;\n",
       "    }\n",
       "\n",
       "    .dataframe thead th {\n",
       "        text-align: right;\n",
       "    }\n",
       "</style>\n",
       "<table border=\"1\" class=\"dataframe\">\n",
       "  <thead>\n",
       "    <tr style=\"text-align: right;\">\n",
       "      <th></th>\n",
       "      <th>Date</th>\n",
       "      <th>Hour</th>\n",
       "      <th>Temperature</th>\n",
       "      <th>Humidity</th>\n",
       "      <th>Wind speed</th>\n",
       "      <th>Rainfall</th>\n",
       "      <th>Snowfall</th>\n",
       "      <th>Seasons</th>\n",
       "      <th>Holiday</th>\n",
       "      <th>Functioning Day</th>\n",
       "      <th>Rental Count</th>\n",
       "      <th>Normal Humidity</th>\n",
       "      <th>Temperature Category</th>\n",
       "      <th>Good Weather</th>\n",
       "    </tr>\n",
       "  </thead>\n",
       "  <tbody>\n",
       "    <tr>\n",
       "      <th>0</th>\n",
       "      <td>2017-12-01</td>\n",
       "      <td>0</td>\n",
       "      <td>-5.2</td>\n",
       "      <td>37</td>\n",
       "      <td>2.2</td>\n",
       "      <td>0.0</td>\n",
       "      <td>0.0</td>\n",
       "      <td>Winter</td>\n",
       "      <td>0</td>\n",
       "      <td>True</td>\n",
       "      <td>257</td>\n",
       "      <td>0</td>\n",
       "      <td>Freezing</td>\n",
       "      <td>0</td>\n",
       "    </tr>\n",
       "    <tr>\n",
       "      <th>1</th>\n",
       "      <td>2017-12-01</td>\n",
       "      <td>1</td>\n",
       "      <td>-5.5</td>\n",
       "      <td>38</td>\n",
       "      <td>0.8</td>\n",
       "      <td>0.0</td>\n",
       "      <td>0.0</td>\n",
       "      <td>Winter</td>\n",
       "      <td>0</td>\n",
       "      <td>True</td>\n",
       "      <td>219</td>\n",
       "      <td>0</td>\n",
       "      <td>Freezing</td>\n",
       "      <td>0</td>\n",
       "    </tr>\n",
       "    <tr>\n",
       "      <th>2</th>\n",
       "      <td>2017-12-01</td>\n",
       "      <td>2</td>\n",
       "      <td>-6.0</td>\n",
       "      <td>39</td>\n",
       "      <td>1.0</td>\n",
       "      <td>0.0</td>\n",
       "      <td>0.0</td>\n",
       "      <td>Winter</td>\n",
       "      <td>0</td>\n",
       "      <td>True</td>\n",
       "      <td>162</td>\n",
       "      <td>0</td>\n",
       "      <td>Freezing</td>\n",
       "      <td>0</td>\n",
       "    </tr>\n",
       "    <tr>\n",
       "      <th>3</th>\n",
       "      <td>2017-12-01</td>\n",
       "      <td>3</td>\n",
       "      <td>-6.2</td>\n",
       "      <td>40</td>\n",
       "      <td>0.9</td>\n",
       "      <td>0.0</td>\n",
       "      <td>0.0</td>\n",
       "      <td>Winter</td>\n",
       "      <td>0</td>\n",
       "      <td>True</td>\n",
       "      <td>148</td>\n",
       "      <td>1</td>\n",
       "      <td>Freezing</td>\n",
       "      <td>0</td>\n",
       "    </tr>\n",
       "    <tr>\n",
       "      <th>4</th>\n",
       "      <td>2017-12-01</td>\n",
       "      <td>4</td>\n",
       "      <td>-6.0</td>\n",
       "      <td>36</td>\n",
       "      <td>2.3</td>\n",
       "      <td>0.0</td>\n",
       "      <td>0.0</td>\n",
       "      <td>Winter</td>\n",
       "      <td>0</td>\n",
       "      <td>True</td>\n",
       "      <td>97</td>\n",
       "      <td>0</td>\n",
       "      <td>Freezing</td>\n",
       "      <td>0</td>\n",
       "    </tr>\n",
       "  </tbody>\n",
       "</table>\n",
       "</div>"
      ],
      "text/plain": [
       "        Date  Hour  Temperature  Humidity  Wind speed  Rainfall  Snowfall  \\\n",
       "0 2017-12-01     0         -5.2        37         2.2       0.0       0.0   \n",
       "1 2017-12-01     1         -5.5        38         0.8       0.0       0.0   \n",
       "2 2017-12-01     2         -6.0        39         1.0       0.0       0.0   \n",
       "3 2017-12-01     3         -6.2        40         0.9       0.0       0.0   \n",
       "4 2017-12-01     4         -6.0        36         2.3       0.0       0.0   \n",
       "\n",
       "  Seasons  Holiday  Functioning Day  Rental Count  Normal Humidity  \\\n",
       "0  Winter        0             True           257                0   \n",
       "1  Winter        0             True           219                0   \n",
       "2  Winter        0             True           162                0   \n",
       "3  Winter        0             True           148                1   \n",
       "4  Winter        0             True            97                0   \n",
       "\n",
       "  Temperature Category  Good Weather  \n",
       "0             Freezing             0  \n",
       "1             Freezing             0  \n",
       "2             Freezing             0  \n",
       "3             Freezing             0  \n",
       "4             Freezing             0  "
      ]
     },
     "execution_count": 1,
     "metadata": {},
     "output_type": "execute_result"
    }
   ],
   "source": [
    "import pandas as pd\n",
    "import warnings\n",
    "import numpy as np\n",
    "warnings.filterwarnings('ignore')\n",
    "bikes = pd.read_pickle('../data/BikesDataImputed.pkl')\n",
    "bikes.head()"
   ]
  },
  {
   "cell_type": "code",
   "execution_count": 2,
   "metadata": {},
   "outputs": [],
   "source": [
    "temp_mean = bikes.groupby(bikes['Date'].dt.isocalendar().week)['Temperature'].mean()\n",
    "bikes_sum = bikes.groupby(bikes['Date'].dt.isocalendar().week)['Rental Count'].sum()"
   ]
  },
  {
   "cell_type": "code",
   "execution_count": 3,
   "metadata": {},
   "outputs": [],
   "source": [
    "bikes_week = pd.concat([temp_mean, bikes_sum], axis=1)"
   ]
  },
  {
   "cell_type": "code",
   "execution_count": 4,
   "metadata": {},
   "outputs": [],
   "source": [
    "first_five = bikes_week.iloc[:5]"
   ]
  },
  {
   "cell_type": "code",
   "execution_count": 5,
   "metadata": {},
   "outputs": [],
   "source": [
    "first_five['X - Mx'] = first_five['Temperature'] - first_five['Temperature'].mean()\n",
    "first_five['Y - My'] = first_five['Rental Count'] - first_five['Rental Count'].mean()"
   ]
  },
  {
   "cell_type": "code",
   "execution_count": 6,
   "metadata": {},
   "outputs": [
    {
     "data": {
      "text/html": [
       "<div>\n",
       "<style scoped>\n",
       "    .dataframe tbody tr th:only-of-type {\n",
       "        vertical-align: middle;\n",
       "    }\n",
       "\n",
       "    .dataframe tbody tr th {\n",
       "        vertical-align: top;\n",
       "    }\n",
       "\n",
       "    .dataframe thead th {\n",
       "        text-align: right;\n",
       "    }\n",
       "</style>\n",
       "<table border=\"1\" class=\"dataframe\">\n",
       "  <thead>\n",
       "    <tr style=\"text-align: right;\">\n",
       "      <th></th>\n",
       "      <th>Temperature</th>\n",
       "      <th>Rental Count</th>\n",
       "      <th>X - Mx</th>\n",
       "      <th>Y - My</th>\n",
       "    </tr>\n",
       "    <tr>\n",
       "      <th>week</th>\n",
       "      <th></th>\n",
       "      <th></th>\n",
       "      <th></th>\n",
       "      <th></th>\n",
       "    </tr>\n",
       "  </thead>\n",
       "  <tbody>\n",
       "    <tr>\n",
       "      <th>1</th>\n",
       "      <td>-2.694940</td>\n",
       "      <td>39441</td>\n",
       "      <td>1.465357</td>\n",
       "      <td>6641.2</td>\n",
       "    </tr>\n",
       "    <tr>\n",
       "      <th>2</th>\n",
       "      <td>-5.079762</td>\n",
       "      <td>30871</td>\n",
       "      <td>-0.919464</td>\n",
       "      <td>-1928.8</td>\n",
       "    </tr>\n",
       "    <tr>\n",
       "      <th>3</th>\n",
       "      <td>2.662500</td>\n",
       "      <td>42193</td>\n",
       "      <td>6.822798</td>\n",
       "      <td>9393.2</td>\n",
       "    </tr>\n",
       "    <tr>\n",
       "      <th>4</th>\n",
       "      <td>-10.038690</td>\n",
       "      <td>23079</td>\n",
       "      <td>-5.878393</td>\n",
       "      <td>-9720.8</td>\n",
       "    </tr>\n",
       "    <tr>\n",
       "      <th>5</th>\n",
       "      <td>-5.650595</td>\n",
       "      <td>28415</td>\n",
       "      <td>-1.490298</td>\n",
       "      <td>-4384.8</td>\n",
       "    </tr>\n",
       "  </tbody>\n",
       "</table>\n",
       "</div>"
      ],
      "text/plain": [
       "      Temperature  Rental Count    X - Mx  Y - My\n",
       "week                                             \n",
       "1       -2.694940         39441  1.465357  6641.2\n",
       "2       -5.079762         30871 -0.919464 -1928.8\n",
       "3        2.662500         42193  6.822798  9393.2\n",
       "4      -10.038690         23079 -5.878393 -9720.8\n",
       "5       -5.650595         28415 -1.490298 -4384.8"
      ]
     },
     "execution_count": 6,
     "metadata": {},
     "output_type": "execute_result"
    }
   ],
   "source": [
    "first_five"
   ]
  },
  {
   "cell_type": "code",
   "execution_count": 7,
   "metadata": {},
   "outputs": [
    {
     "name": "stdout",
     "output_type": "stream",
     "text": [
      "86.31974305555556 249778436.8 139270.43345238097\n"
     ]
    }
   ],
   "source": [
    "SSx = (first_five['X - Mx']**2).sum()\n",
    "SSy = (first_five['Y - My']**2).sum()\n",
    "SP = (first_five['X - Mx']*first_five['Y - My']).sum()\n",
    "print(SSx, SSy, SP)"
   ]
  },
  {
   "cell_type": "code",
   "execution_count": 8,
   "metadata": {},
   "outputs": [
    {
     "name": "stdout",
     "output_type": "stream",
     "text": [
      "0.9484760874616524\n"
     ]
    }
   ],
   "source": [
    "r = SP / np.sqrt(SSx*SSy)\n",
    "print(r)"
   ]
  },
  {
   "cell_type": "code",
   "execution_count": 9,
   "metadata": {},
   "outputs": [
    {
     "data": {
      "text/plain": [
       "0.9484760874616526"
      ]
     },
     "execution_count": 9,
     "metadata": {},
     "output_type": "execute_result"
    }
   ],
   "source": [
    "first_five['Temperature'].corr(first_five['Rental Count'])"
   ]
  },
  {
   "cell_type": "code",
   "execution_count": 10,
   "metadata": {},
   "outputs": [
    {
     "data": {
      "text/plain": [
       "0.8458075200534891"
      ]
     },
     "execution_count": 10,
     "metadata": {},
     "output_type": "execute_result"
    }
   ],
   "source": [
    "bikes_week['Temperature'].corr(bikes_week['Rental Count'])"
   ]
  },
  {
   "cell_type": "code",
   "execution_count": 11,
   "metadata": {},
   "outputs": [
    {
     "data": {
      "text/plain": [
       "<AxesSubplot:xlabel='Temperature', ylabel='Rental Count'>"
      ]
     },
     "execution_count": 11,
     "metadata": {},
     "output_type": "execute_result"
    },
    {
     "data": {
      "image/png": "[encoded data removed]",
      "text/plain": [
       "<Figure size 432x288 with 1 Axes>"
      ]
     },
     "metadata": {
      "needs_background": "light"
     },
     "output_type": "display_data"
    }
   ],
   "source": [
    "bikes_week.plot('Temperature','Rental Count', kind='scatter')"
   ]
  },
  {
   "cell_type": "code",
   "execution_count": 12,
   "metadata": {},
   "outputs": [
    {
     "data": {
      "text/html": [
       "<div>\n",
       "<style scoped>\n",
       "    .dataframe tbody tr th:only-of-type {\n",
       "        vertical-align: middle;\n",
       "    }\n",
       "\n",
       "    .dataframe tbody tr th {\n",
       "        vertical-align: top;\n",
       "    }\n",
       "\n",
       "    .dataframe thead th {\n",
       "        text-align: right;\n",
       "    }\n",
       "</style>\n",
       "<table border=\"1\" class=\"dataframe\">\n",
       "  <thead>\n",
       "    <tr style=\"text-align: right;\">\n",
       "      <th></th>\n",
       "      <th>Hour</th>\n",
       "      <th>Temperature</th>\n",
       "      <th>Humidity</th>\n",
       "      <th>Wind speed</th>\n",
       "      <th>Rainfall</th>\n",
       "      <th>Snowfall</th>\n",
       "      <th>Holiday</th>\n",
       "      <th>Functioning Day</th>\n",
       "      <th>Rental Count</th>\n",
       "      <th>Normal Humidity</th>\n",
       "      <th>Good Weather</th>\n",
       "    </tr>\n",
       "  </thead>\n",
       "  <tbody>\n",
       "    <tr>\n",
       "      <th>Hour</th>\n",
       "      <td>1.000000e+00</td>\n",
       "      <td>0.123610</td>\n",
       "      <td>-0.241644</td>\n",
       "      <td>0.285197</td>\n",
       "      <td>0.008715</td>\n",
       "      <td>-0.021516</td>\n",
       "      <td>-1.391486e-16</td>\n",
       "      <td>0.005439</td>\n",
       "      <td>0.345622</td>\n",
       "      <td>0.107503</td>\n",
       "      <td>0.073698</td>\n",
       "    </tr>\n",
       "    <tr>\n",
       "      <th>Temperature</th>\n",
       "      <td>1.236105e-01</td>\n",
       "      <td>1.000000</td>\n",
       "      <td>0.159793</td>\n",
       "      <td>-0.036418</td>\n",
       "      <td>0.050758</td>\n",
       "      <td>-0.217846</td>\n",
       "      <td>-5.570102e-02</td>\n",
       "      <td>-0.049849</td>\n",
       "      <td>0.454749</td>\n",
       "      <td>0.025467</td>\n",
       "      <td>0.206979</td>\n",
       "    </tr>\n",
       "    <tr>\n",
       "      <th>Humidity</th>\n",
       "      <td>-2.416438e-01</td>\n",
       "      <td>0.159793</td>\n",
       "      <td>1.000000</td>\n",
       "      <td>-0.336683</td>\n",
       "      <td>0.236397</td>\n",
       "      <td>0.108183</td>\n",
       "      <td>-5.027765e-02</td>\n",
       "      <td>-0.020800</td>\n",
       "      <td>-0.169085</td>\n",
       "      <td>-0.285947</td>\n",
       "      <td>-0.115874</td>\n",
       "    </tr>\n",
       "    <tr>\n",
       "      <th>Wind speed</th>\n",
       "      <td>2.851967e-01</td>\n",
       "      <td>-0.036418</td>\n",
       "      <td>-0.336683</td>\n",
       "      <td>1.000000</td>\n",
       "      <td>-0.019674</td>\n",
       "      <td>-0.003554</td>\n",
       "      <td>2.301677e-02</td>\n",
       "      <td>0.005037</td>\n",
       "      <td>0.097583</td>\n",
       "      <td>0.074964</td>\n",
       "      <td>0.032127</td>\n",
       "    </tr>\n",
       "    <tr>\n",
       "      <th>Rainfall</th>\n",
       "      <td>8.714642e-03</td>\n",
       "      <td>0.050758</td>\n",
       "      <td>0.236397</td>\n",
       "      <td>-0.019674</td>\n",
       "      <td>1.000000</td>\n",
       "      <td>0.008500</td>\n",
       "      <td>-1.426911e-02</td>\n",
       "      <td>0.002055</td>\n",
       "      <td>-0.103519</td>\n",
       "      <td>-0.095339</td>\n",
       "      <td>-0.042127</td>\n",
       "    </tr>\n",
       "    <tr>\n",
       "      <th>Snowfall</th>\n",
       "      <td>-2.151645e-02</td>\n",
       "      <td>-0.217846</td>\n",
       "      <td>0.108183</td>\n",
       "      <td>-0.003554</td>\n",
       "      <td>0.008500</td>\n",
       "      <td>1.000000</td>\n",
       "      <td>-1.259072e-02</td>\n",
       "      <td>0.032089</td>\n",
       "      <td>-0.120869</td>\n",
       "      <td>-0.067939</td>\n",
       "      <td>-0.054942</td>\n",
       "    </tr>\n",
       "    <tr>\n",
       "      <th>Holiday</th>\n",
       "      <td>-1.391486e-16</td>\n",
       "      <td>-0.055701</td>\n",
       "      <td>-0.050278</td>\n",
       "      <td>0.023017</td>\n",
       "      <td>-0.014269</td>\n",
       "      <td>-0.012591</td>\n",
       "      <td>1.000000e+00</td>\n",
       "      <td>-0.027624</td>\n",
       "      <td>-0.068822</td>\n",
       "      <td>-0.020156</td>\n",
       "      <td>0.029008</td>\n",
       "    </tr>\n",
       "    <tr>\n",
       "      <th>Functioning Day</th>\n",
       "      <td>5.439377e-03</td>\n",
       "      <td>-0.049849</td>\n",
       "      <td>-0.020800</td>\n",
       "      <td>0.005037</td>\n",
       "      <td>0.002055</td>\n",
       "      <td>0.032089</td>\n",
       "      <td>-2.762445e-02</td>\n",
       "      <td>1.000000</td>\n",
       "      <td>0.173437</td>\n",
       "      <td>0.002488</td>\n",
       "      <td>-0.101806</td>\n",
       "    </tr>\n",
       "    <tr>\n",
       "      <th>Rental Count</th>\n",
       "      <td>3.456218e-01</td>\n",
       "      <td>0.454749</td>\n",
       "      <td>-0.169085</td>\n",
       "      <td>0.097583</td>\n",
       "      <td>-0.103519</td>\n",
       "      <td>-0.120869</td>\n",
       "      <td>-6.882160e-02</td>\n",
       "      <td>0.173437</td>\n",
       "      <td>1.000000</td>\n",
       "      <td>0.128521</td>\n",
       "      <td>0.194224</td>\n",
       "    </tr>\n",
       "    <tr>\n",
       "      <th>Normal Humidity</th>\n",
       "      <td>1.075026e-01</td>\n",
       "      <td>0.025467</td>\n",
       "      <td>-0.285947</td>\n",
       "      <td>0.074964</td>\n",
       "      <td>-0.095339</td>\n",
       "      <td>-0.067939</td>\n",
       "      <td>-2.015629e-02</td>\n",
       "      <td>0.002488</td>\n",
       "      <td>0.128521</td>\n",
       "      <td>1.000000</td>\n",
       "      <td>0.440102</td>\n",
       "    </tr>\n",
       "    <tr>\n",
       "      <th>Good Weather</th>\n",
       "      <td>7.369784e-02</td>\n",
       "      <td>0.206979</td>\n",
       "      <td>-0.115874</td>\n",
       "      <td>0.032127</td>\n",
       "      <td>-0.042127</td>\n",
       "      <td>-0.054942</td>\n",
       "      <td>2.900771e-02</td>\n",
       "      <td>-0.101806</td>\n",
       "      <td>0.194224</td>\n",
       "      <td>0.440102</td>\n",
       "      <td>1.000000</td>\n",
       "    </tr>\n",
       "  </tbody>\n",
       "</table>\n",
       "</div>"
      ],
      "text/plain": [
       "                         Hour  Temperature  Humidity  Wind speed  Rainfall  \\\n",
       "Hour             1.000000e+00     0.123610 -0.241644    0.285197  0.008715   \n",
       "Temperature      1.236105e-01     1.000000  0.159793   -0.036418  0.050758   \n",
       "Humidity        -2.416438e-01     0.159793  1.000000   -0.336683  0.236397   \n",
       "Wind speed       2.851967e-01    -0.036418 -0.336683    1.000000 -0.019674   \n",
       "Rainfall         8.714642e-03     0.050758  0.236397   -0.019674  1.000000   \n",
       "Snowfall        -2.151645e-02    -0.217846  0.108183   -0.003554  0.008500   \n",
       "Holiday         -1.391486e-16    -0.055701 -0.050278    0.023017 -0.014269   \n",
       "Functioning Day  5.439377e-03    -0.049849 -0.020800    0.005037  0.002055   \n",
       "Rental Count     3.456218e-01     0.454749 -0.169085    0.097583 -0.103519   \n",
       "Normal Humidity  1.075026e-01     0.025467 -0.285947    0.074964 -0.095339   \n",
       "Good Weather     7.369784e-02     0.206979 -0.115874    0.032127 -0.042127   \n",
       "\n",
       "                 Snowfall       Holiday  Functioning Day  Rental Count  \\\n",
       "Hour            -0.021516 -1.391486e-16         0.005439      0.345622   \n",
       "Temperature     -0.217846 -5.570102e-02        -0.049849      0.454749   \n",
       "Humidity         0.108183 -5.027765e-02        -0.020800     -0.169085   \n",
       "Wind speed      -0.003554  2.301677e-02         0.005037      0.097583   \n",
       "Rainfall         0.008500 -1.426911e-02         0.002055     -0.103519   \n",
       "Snowfall         1.000000 -1.259072e-02         0.032089     -0.120869   \n",
       "Holiday         -0.012591  1.000000e+00        -0.027624     -0.068822   \n",
       "Functioning Day  0.032089 -2.762445e-02         1.000000      0.173437   \n",
       "Rental Count    -0.120869 -6.882160e-02         0.173437      1.000000   \n",
       "Normal Humidity -0.067939 -2.015629e-02         0.002488      0.128521   \n",
       "Good Weather    -0.054942  2.900771e-02        -0.101806      0.194224   \n",
       "\n",
       "                 Normal Humidity  Good Weather  \n",
       "Hour                    0.107503      0.073698  \n",
       "Temperature             0.025467      0.206979  \n",
       "Humidity               -0.285947     -0.115874  \n",
       "Wind speed              0.074964      0.032127  \n",
       "Rainfall               -0.095339     -0.042127  \n",
       "Snowfall               -0.067939     -0.054942  \n",
       "Holiday                -0.020156      0.029008  \n",
       "Functioning Day         0.002488     -0.101806  \n",
       "Rental Count            0.128521      0.194224  \n",
       "Normal Humidity         1.000000      0.440102  \n",
       "Good Weather            0.440102      1.000000  "
      ]
     },
     "execution_count": 12,
     "metadata": {},
     "output_type": "execute_result"
    }
   ],
   "source": [
    "bikes.corr()"
   ]
  },
  {
   "cell_type": "code",
   "execution_count": 13,
   "metadata": {},
   "outputs": [],
   "source": [
    "humidity_mean = bikes.groupby(bikes['Date'].dt.isocalendar().week)['Humidity'].mean()\n",
    "wind_mean = bikes.groupby(bikes['Date'].dt.isocalendar().week)['Wind speed'].mean()"
   ]
  },
  {
   "cell_type": "code",
   "execution_count": 14,
   "metadata": {},
   "outputs": [],
   "source": [
    "bikes_week = pd.concat([bikes_week, humidity_mean, wind_mean], axis=1)"
   ]
  },
  {
   "cell_type": "code",
   "execution_count": 15,
   "metadata": {},
   "outputs": [
    {
     "data": {
      "text/html": [
       "<div>\n",
       "<style scoped>\n",
       "    .dataframe tbody tr th:only-of-type {\n",
       "        vertical-align: middle;\n",
       "    }\n",
       "\n",
       "    .dataframe tbody tr th {\n",
       "        vertical-align: top;\n",
       "    }\n",
       "\n",
       "    .dataframe thead th {\n",
       "        text-align: right;\n",
       "    }\n",
       "</style>\n",
       "<table border=\"1\" class=\"dataframe\">\n",
       "  <thead>\n",
       "    <tr style=\"text-align: right;\">\n",
       "      <th></th>\n",
       "      <th>Temperature</th>\n",
       "      <th>Rental Count</th>\n",
       "      <th>Humidity</th>\n",
       "      <th>Wind speed</th>\n",
       "    </tr>\n",
       "  </thead>\n",
       "  <tbody>\n",
       "    <tr>\n",
       "      <th>Temperature</th>\n",
       "      <td>1.000000</td>\n",
       "      <td>0.845808</td>\n",
       "      <td>0.584642</td>\n",
       "      <td>-0.420474</td>\n",
       "    </tr>\n",
       "    <tr>\n",
       "      <th>Rental Count</th>\n",
       "      <td>0.845808</td>\n",
       "      <td>1.000000</td>\n",
       "      <td>0.389963</td>\n",
       "      <td>-0.434142</td>\n",
       "    </tr>\n",
       "    <tr>\n",
       "      <th>Humidity</th>\n",
       "      <td>0.584642</td>\n",
       "      <td>0.389963</td>\n",
       "      <td>1.000000</td>\n",
       "      <td>-0.456225</td>\n",
       "    </tr>\n",
       "    <tr>\n",
       "      <th>Wind speed</th>\n",
       "      <td>-0.420474</td>\n",
       "      <td>-0.434142</td>\n",
       "      <td>-0.456225</td>\n",
       "      <td>1.000000</td>\n",
       "    </tr>\n",
       "  </tbody>\n",
       "</table>\n",
       "</div>"
      ],
      "text/plain": [
       "              Temperature  Rental Count  Humidity  Wind speed\n",
       "Temperature      1.000000      0.845808  0.584642   -0.420474\n",
       "Rental Count     0.845808      1.000000  0.389963   -0.434142\n",
       "Humidity         0.584642      0.389963  1.000000   -0.456225\n",
       "Wind speed      -0.420474     -0.434142 -0.456225    1.000000"
      ]
     },
     "execution_count": 15,
     "metadata": {},
     "output_type": "execute_result"
    }
   ],
   "source": [
    "bikes_week.corr()"
   ]
  },
  {
   "cell_type": "code",
   "execution_count": 16,
   "metadata": {},
   "outputs": [
    {
     "data": {
      "text/plain": [
       "<AxesSubplot:xlabel='Humidity', ylabel='Rental Count'>"
      ]
     },
     "execution_count": 16,
     "metadata": {},
     "output_type": "execute_result"
    },
    {
     "data": {
      "image/png": "[encoded data removed]",
      "text/plain": [
       "<Figure size 432x288 with 1 Axes>"
      ]
     },
     "metadata": {
      "needs_background": "light"
     },
     "output_type": "display_data"
    }
   ],
   "source": [
    "bikes_week.plot('Humidity', 'Rental Count', kind='scatter')"
   ]
  },
  {
   "cell_type": "code",
   "execution_count": 17,
   "metadata": {},
   "outputs": [
    {
     "data": {
      "text/plain": [
       "<AxesSubplot:xlabel='Wind speed', ylabel='Rental Count'>"
      ]
     },
     "execution_count": 17,
     "metadata": {},
     "output_type": "execute_result"
    },
    {
     "data": {
      "image/png": "[encoded data removed]",
      "text/plain": [
       "<Figure size 432x288 with 1 Axes>"
      ]
     },
     "metadata": {
      "needs_background": "light"
     },
     "output_type": "display_data"
    }
   ],
   "source": [
    "bikes_week.plot('Wind speed', 'Rental Count', kind='scatter')"
   ]
  },
  {
   "cell_type": "code",
   "execution_count": 18,
   "metadata": {},
   "outputs": [
    {
     "data": {
      "text/plain": [
       "Temperature     0.845808\n",
       "Rental Count    1.000000\n",
       "Humidity        0.389963\n",
       "Wind speed     -0.434142\n",
       "Name: Rental Count, dtype: float64"
      ]
     },
     "execution_count": 18,
     "metadata": {},
     "output_type": "execute_result"
    }
   ],
   "source": [
    "bikes_week.corr()['Rental Count']"
   ]
  },
  {
   "cell_type": "code",
   "execution_count": 19,
   "metadata": {},
   "outputs": [
    {
     "data": {
      "text/plain": [
       "Wind speed     -0.434142\n",
       "Humidity        0.389963\n",
       "Temperature     0.845808\n",
       "Rental Count    1.000000\n",
       "Name: Rental Count, dtype: float64"
      ]
     },
     "execution_count": 19,
     "metadata": {},
     "output_type": "execute_result"
    }
   ],
   "source": [
    "bikes_week.corr()['Rental Count'].sort_values()"
   ]
  },
  {
   "cell_type": "code",
   "execution_count": 20,
   "metadata": {},
   "outputs": [
    {
     "data": {
      "text/plain": [
       "Humidity        0.389963\n",
       "Wind speed      0.434142\n",
       "Temperature     0.845808\n",
       "Rental Count    1.000000\n",
       "Name: Rental Count, dtype: float64"
      ]
     },
     "execution_count": 20,
     "metadata": {},
     "output_type": "execute_result"
    }
   ],
   "source": [
    "bikes_week.corr()['Rental Count'].apply(np.abs).sort_values()"
   ]
  },
  {
   "cell_type": "code",
   "execution_count": 21,
   "metadata": {},
   "outputs": [
    {
     "data": {
      "text/plain": [
       "Temperature   Temperature     1.000000\n",
       "              Rental Count    0.845808\n",
       "              Humidity        0.584642\n",
       "              Wind speed      0.420474\n",
       "Rental Count  Temperature     0.845808\n",
       "              Rental Count    1.000000\n",
       "              Humidity        0.389963\n",
       "              Wind speed      0.434142\n",
       "Humidity      Temperature     0.584642\n",
       "              Rental Count    0.389963\n",
       "              Humidity        1.000000\n",
       "              Wind speed      0.456225\n",
       "Wind speed    Temperature     0.420474\n",
       "              Rental Count    0.434142\n",
       "              Humidity        0.456225\n",
       "              Wind speed      1.000000\n",
       "dtype: float64"
      ]
     },
     "execution_count": 21,
     "metadata": {},
     "output_type": "execute_result"
    }
   ],
   "source": [
    "corr = bikes_week.corr()\n",
    "c1 = corr.abs().unstack()\n",
    "c1"
   ]
  },
  {
   "cell_type": "code",
   "execution_count": 22,
   "metadata": {},
   "outputs": [
    {
     "data": {
      "text/plain": [
       "Temperature   Temperature     1.000000\n",
       "Rental Count  Rental Count    1.000000\n",
       "Humidity      Humidity        1.000000\n",
       "Wind speed    Wind speed      1.000000\n",
       "Temperature   Rental Count    0.845808\n",
       "Rental Count  Temperature     0.845808\n",
       "Temperature   Humidity        0.584642\n",
       "Humidity      Temperature     0.584642\n",
       "              Wind speed      0.456225\n",
       "Wind speed    Humidity        0.456225\n",
       "Rental Count  Wind speed      0.434142\n",
       "Wind speed    Rental Count    0.434142\n",
       "Temperature   Wind speed      0.420474\n",
       "Wind speed    Temperature     0.420474\n",
       "Rental Count  Humidity        0.389963\n",
       "Humidity      Rental Count    0.389963\n",
       "dtype: float64"
      ]
     },
     "execution_count": 22,
     "metadata": {},
     "output_type": "execute_result"
    }
   ],
   "source": [
    "c1.sort_values(ascending = False)"
   ]
  },
  {
   "cell_type": "code",
   "execution_count": 23,
   "metadata": {},
   "outputs": [
    {
     "data": {
      "text/html": [
       "<div>\n",
       "<style scoped>\n",
       "    .dataframe tbody tr th:only-of-type {\n",
       "        vertical-align: middle;\n",
       "    }\n",
       "\n",
       "    .dataframe tbody tr th {\n",
       "        vertical-align: top;\n",
       "    }\n",
       "\n",
       "    .dataframe thead th {\n",
       "        text-align: right;\n",
       "    }\n",
       "</style>\n",
       "<table border=\"1\" class=\"dataframe\">\n",
       "  <thead>\n",
       "    <tr style=\"text-align: right;\">\n",
       "      <th></th>\n",
       "      <th>X</th>\n",
       "      <th>Y</th>\n",
       "    </tr>\n",
       "  </thead>\n",
       "  <tbody>\n",
       "    <tr>\n",
       "      <th>0</th>\n",
       "      <td>13</td>\n",
       "      <td>200</td>\n",
       "    </tr>\n",
       "    <tr>\n",
       "      <th>1</th>\n",
       "      <td>21</td>\n",
       "      <td>90</td>\n",
       "    </tr>\n",
       "    <tr>\n",
       "      <th>2</th>\n",
       "      <td>30</td>\n",
       "      <td>10</td>\n",
       "    </tr>\n",
       "    <tr>\n",
       "      <th>3</th>\n",
       "      <td>65</td>\n",
       "      <td>83</td>\n",
       "    </tr>\n",
       "    <tr>\n",
       "      <th>4</th>\n",
       "      <td>50</td>\n",
       "      <td>12</td>\n",
       "    </tr>\n",
       "  </tbody>\n",
       "</table>\n",
       "</div>"
      ],
      "text/plain": [
       "    X    Y\n",
       "0  13  200\n",
       "1  21   90\n",
       "2  30   10\n",
       "3  65   83\n",
       "4  50   12"
      ]
     },
     "execution_count": 23,
     "metadata": {},
     "output_type": "execute_result"
    }
   ],
   "source": [
    "X = [13, 21, 30, 65, 50]\n",
    "Y = [200, 90, 10, 83, 12]\n",
    "d = pd.DataFrame({'X': X, 'Y': Y})\n",
    "d"
   ]
  },
  {
   "cell_type": "code",
   "execution_count": 24,
   "metadata": {},
   "outputs": [
    {
     "data": {
      "text/html": [
       "<div>\n",
       "<style scoped>\n",
       "    .dataframe tbody tr th:only-of-type {\n",
       "        vertical-align: middle;\n",
       "    }\n",
       "\n",
       "    .dataframe tbody tr th {\n",
       "        vertical-align: top;\n",
       "    }\n",
       "\n",
       "    .dataframe thead th {\n",
       "        text-align: right;\n",
       "    }\n",
       "</style>\n",
       "<table border=\"1\" class=\"dataframe\">\n",
       "  <thead>\n",
       "    <tr style=\"text-align: right;\">\n",
       "      <th></th>\n",
       "      <th>X</th>\n",
       "      <th>Y</th>\n",
       "    </tr>\n",
       "  </thead>\n",
       "  <tbody>\n",
       "    <tr>\n",
       "      <th>X</th>\n",
       "      <td>1.000000</td>\n",
       "      <td>-0.506545</td>\n",
       "    </tr>\n",
       "    <tr>\n",
       "      <th>Y</th>\n",
       "      <td>-0.506545</td>\n",
       "      <td>1.000000</td>\n",
       "    </tr>\n",
       "  </tbody>\n",
       "</table>\n",
       "</div>"
      ],
      "text/plain": [
       "          X         Y\n",
       "X  1.000000 -0.506545\n",
       "Y -0.506545  1.000000"
      ]
     },
     "execution_count": 24,
     "metadata": {},
     "output_type": "execute_result"
    }
   ],
   "source": [
    "d.corr()"
   ]
  }
 ],
 "metadata": {
  "kernelspec": {
   "display_name": "Python 3",
   "language": "python",
   "name": "python3"
  },
  "language_info": {
   "codemirror_mode": {
    "name": "ipython",
    "version": 3
   },
   "file_extension": ".py",
   "mimetype": "text/x-python",
   "name": "python",
   "nbconvert_exporter": "python",
   "pygments_lexer": "ipython3",
   "version": "3.9.7"
  }
 },
 "nbformat": 4,
 "nbformat_minor": 4
}
