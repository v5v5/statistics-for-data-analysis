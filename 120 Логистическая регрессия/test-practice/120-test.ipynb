{
 "cells": [
  {
   "cell_type": "code",
   "execution_count": 23,
   "metadata": {},
   "outputs": [],
   "source": [
    "import pandas as pd\n",
    "import statsmodels.api as sm\n",
    "import numpy as np"
   ]
  },
  {
   "cell_type": "code",
   "execution_count": 6,
   "metadata": {},
   "outputs": [],
   "source": [
    "df = pd.read_excel(\"../../data/CandyData.xlsx\")"
   ]
  },
  {
   "cell_type": "code",
   "execution_count": 8,
   "metadata": {},
   "outputs": [
    {
     "data": {
      "text/html": [
       "<div>\n",
       "<style scoped>\n",
       "    .dataframe tbody tr th:only-of-type {\n",
       "        vertical-align: middle;\n",
       "    }\n",
       "\n",
       "    .dataframe tbody tr th {\n",
       "        vertical-align: top;\n",
       "    }\n",
       "\n",
       "    .dataframe thead th {\n",
       "        text-align: right;\n",
       "    }\n",
       "</style>\n",
       "<table border=\"1\" class=\"dataframe\">\n",
       "  <thead>\n",
       "    <tr style=\"text-align: right;\">\n",
       "      <th></th>\n",
       "      <th>competitorname</th>\n",
       "      <th>chocolate</th>\n",
       "      <th>fruity</th>\n",
       "      <th>caramel</th>\n",
       "      <th>peanutyalmondy</th>\n",
       "      <th>nougat</th>\n",
       "      <th>crispedricewafer</th>\n",
       "      <th>hard</th>\n",
       "      <th>bar</th>\n",
       "      <th>pluribus</th>\n",
       "      <th>sugarpercent</th>\n",
       "      <th>pricepercent</th>\n",
       "      <th>winpercent</th>\n",
       "    </tr>\n",
       "  </thead>\n",
       "  <tbody>\n",
       "    <tr>\n",
       "      <th>0</th>\n",
       "      <td>100 Grand</td>\n",
       "      <td>1</td>\n",
       "      <td>0</td>\n",
       "      <td>1</td>\n",
       "      <td>0</td>\n",
       "      <td>0</td>\n",
       "      <td>1</td>\n",
       "      <td>0</td>\n",
       "      <td>1</td>\n",
       "      <td>0</td>\n",
       "      <td>0.732</td>\n",
       "      <td>0.860</td>\n",
       "      <td>66.971725</td>\n",
       "    </tr>\n",
       "    <tr>\n",
       "      <th>1</th>\n",
       "      <td>3 Musketeers</td>\n",
       "      <td>1</td>\n",
       "      <td>0</td>\n",
       "      <td>0</td>\n",
       "      <td>0</td>\n",
       "      <td>1</td>\n",
       "      <td>0</td>\n",
       "      <td>0</td>\n",
       "      <td>1</td>\n",
       "      <td>0</td>\n",
       "      <td>0.604</td>\n",
       "      <td>0.511</td>\n",
       "      <td>67.602936</td>\n",
       "    </tr>\n",
       "    <tr>\n",
       "      <th>2</th>\n",
       "      <td>One dime</td>\n",
       "      <td>0</td>\n",
       "      <td>0</td>\n",
       "      <td>0</td>\n",
       "      <td>0</td>\n",
       "      <td>0</td>\n",
       "      <td>0</td>\n",
       "      <td>0</td>\n",
       "      <td>0</td>\n",
       "      <td>0</td>\n",
       "      <td>0.011</td>\n",
       "      <td>0.116</td>\n",
       "      <td>32.261086</td>\n",
       "    </tr>\n",
       "    <tr>\n",
       "      <th>3</th>\n",
       "      <td>One quarter</td>\n",
       "      <td>0</td>\n",
       "      <td>0</td>\n",
       "      <td>0</td>\n",
       "      <td>0</td>\n",
       "      <td>0</td>\n",
       "      <td>0</td>\n",
       "      <td>0</td>\n",
       "      <td>0</td>\n",
       "      <td>0</td>\n",
       "      <td>0.011</td>\n",
       "      <td>0.511</td>\n",
       "      <td>46.116505</td>\n",
       "    </tr>\n",
       "    <tr>\n",
       "      <th>4</th>\n",
       "      <td>Air Heads</td>\n",
       "      <td>0</td>\n",
       "      <td>1</td>\n",
       "      <td>0</td>\n",
       "      <td>0</td>\n",
       "      <td>0</td>\n",
       "      <td>0</td>\n",
       "      <td>0</td>\n",
       "      <td>0</td>\n",
       "      <td>0</td>\n",
       "      <td>0.906</td>\n",
       "      <td>0.511</td>\n",
       "      <td>52.341465</td>\n",
       "    </tr>\n",
       "  </tbody>\n",
       "</table>\n",
       "</div>"
      ],
      "text/plain": [
       "  competitorname  chocolate  fruity  caramel  peanutyalmondy  nougat  \\\n",
       "0      100 Grand          1       0        1               0       0   \n",
       "1   3 Musketeers          1       0        0               0       1   \n",
       "2       One dime          0       0        0               0       0   \n",
       "3    One quarter          0       0        0               0       0   \n",
       "4      Air Heads          0       1        0               0       0   \n",
       "\n",
       "   crispedricewafer  hard  bar  pluribus  sugarpercent  pricepercent  \\\n",
       "0                 1     0    1         0         0.732         0.860   \n",
       "1                 0     0    1         0         0.604         0.511   \n",
       "2                 0     0    0         0         0.011         0.116   \n",
       "3                 0     0    0         0         0.011         0.511   \n",
       "4                 0     0    0         0         0.906         0.511   \n",
       "\n",
       "   winpercent  \n",
       "0   66.971725  \n",
       "1   67.602936  \n",
       "2   32.261086  \n",
       "3   46.116505  \n",
       "4   52.341465  "
      ]
     },
     "execution_count": 8,
     "metadata": {},
     "output_type": "execute_result"
    }
   ],
   "source": [
    "df.head()"
   ]
  },
  {
   "cell_type": "markdown",
   "metadata": {},
   "source": [
    "Перед выполнением задания создайте переменную winpercent_0_1, которая принимает значение 1, если рейтинг конфеты больше или равен 50, и 0 в обратном случае."
   ]
  },
  {
   "cell_type": "code",
   "execution_count": 27,
   "metadata": {},
   "outputs": [],
   "source": [
    "df[\"winpercent_0_1\"] = np.where(df['winpercent'] >= 50, 1, 0)"
   ]
  },
  {
   "cell_type": "markdown",
   "metadata": {},
   "source": [
    "Постройте логистическую модель, где зависимой переменной выступает winpercent_0_1, а независимой – sugarpercent. Выберите верную интерпретацию константы."
   ]
  },
  {
   "cell_type": "code",
   "execution_count": 28,
   "metadata": {},
   "outputs": [
    {
     "name": "stdout",
     "output_type": "stream",
     "text": [
      "Optimization terminated successfully.\n",
      "         Current function value: 0.672972\n",
      "         Iterations 4\n",
      "                           Logit Regression Results                           \n",
      "==============================================================================\n",
      "Dep. Variable:         winpercent_0_1   No. Observations:                   85\n",
      "Model:                          Logit   Df Residuals:                       83\n",
      "Method:                           MLE   Df Model:                            1\n",
      "Date:                Sun, 27 Mar 2022   Pseudo R-squ.:                 0.02433\n",
      "Time:                        20:29:05   Log-Likelihood:                -57.203\n",
      "converged:                       True   LL-Null:                       -58.629\n",
      "Covariance Type:            nonrobust   LLR p-value:                   0.09122\n",
      "================================================================================\n",
      "                   coef    std err          z      P>|z|      [0.025      0.975]\n",
      "--------------------------------------------------------------------------------\n",
      "const           -0.8058      0.447     -1.803      0.071      -1.682       0.070\n",
      "sugarpercent     1.3276      0.798      1.663      0.096      -0.237       2.892\n",
      "================================================================================\n"
     ]
    },
    {
     "name": "stderr",
     "output_type": "stream",
     "text": [
      "C:\\Users\\dvavk\\anaconda3\\lib\\site-packages\\statsmodels\\tsa\\tsatools.py:142: FutureWarning: In a future version of pandas all arguments of concat except for the argument 'objs' will be keyword-only\n",
      "  x = pd.concat(x[::order], 1)\n"
     ]
    }
   ],
   "source": [
    "X = df[\"sugarpercent\"]\n",
    "y = df[\"winpercent_0_1\"]\n",
    "X_constant = sm.add_constant(X)\n",
    "logit = sm.Logit(y, X_constant).fit()\n",
    "print(logit.summary())"
   ]
  },
  {
   "cell_type": "code",
   "execution_count": 31,
   "metadata": {},
   "outputs": [
    {
     "name": "stdout",
     "output_type": "stream",
     "text": [
      "0.4467303992481016\n"
     ]
    }
   ],
   "source": [
    "print(np.exp(-0.8058))"
   ]
  },
  {
   "cell_type": "markdown",
   "metadata": {},
   "source": [
    "Если предиктор = 0, т.е, что у конфеты будет рейтинг = 0 (низкий), то шансы = 0.45"
   ]
  },
  {
   "cell_type": "markdown",
   "metadata": {},
   "source": [
    "Постройте логистическую модель, где зависимой переменной выступает winpercent_0_1, а независимой – sugarpercent. Выберите верную интерпретацию коэффициента при объясняющей переменной. Выберите один верный ответ."
   ]
  },
  {
   "cell_type": "code",
   "execution_count": 32,
   "metadata": {},
   "outputs": [
    {
     "name": "stdout",
     "output_type": "stream",
     "text": [
      "3.771979764137272\n"
     ]
    }
   ],
   "source": [
    "print(np.exp(1.3276))"
   ]
  },
  {
   "cell_type": "markdown",
   "metadata": {},
   "source": [
    "т.е при увеличении процента сахара на 1 шанс, что у конфеты будет рейтинг = 1 (высокий) = 3.77"
   ]
  },
  {
   "cell_type": "markdown",
   "metadata": {},
   "source": [
    "Укажите, верно ли следующее утверждение: на уровне значимости 0.05 процент сахара в конфете статистически значимо влияет на рейтинг конфеты."
   ]
  },
  {
   "cell_type": "markdown",
   "metadata": {},
   "source": [
    "Неверно, т.к.  \n",
    "\n",
    "                P>|z|\n",
    "\n",
    "const           0.071  \n",
    "sugarpercent    0.096  "
   ]
  },
  {
   "cell_type": "markdown",
   "metadata": {},
   "source": [
    "Чему будет равен псевдо R-квадрат в данной модели? Выберите один верный ответ."
   ]
  },
  {
   "cell_type": "markdown",
   "metadata": {},
   "source": [
    "Pseudo R-squ.:                 0.02433"
   ]
  },
  {
   "cell_type": "markdown",
   "metadata": {},
   "source": [
    "Постройте логистическую модель, где зависимой переменной выступает winpercent_0_1, а независимыми – sugarpercent и pricepercent. Чему будет равено отношение шансов при цене конфеты? Введите ответ в виде десятичной дроби, округлите до двух знаков после запятой."
   ]
  },
  {
   "cell_type": "code",
   "execution_count": 43,
   "metadata": {},
   "outputs": [
    {
     "data": {
      "text/html": [
       "<div>\n",
       "<style scoped>\n",
       "    .dataframe tbody tr th:only-of-type {\n",
       "        vertical-align: middle;\n",
       "    }\n",
       "\n",
       "    .dataframe tbody tr th {\n",
       "        vertical-align: top;\n",
       "    }\n",
       "\n",
       "    .dataframe thead th {\n",
       "        text-align: right;\n",
       "    }\n",
       "</style>\n",
       "<table border=\"1\" class=\"dataframe\">\n",
       "  <thead>\n",
       "    <tr style=\"text-align: right;\">\n",
       "      <th></th>\n",
       "      <th>sugarpercent</th>\n",
       "      <th>pricepercent</th>\n",
       "    </tr>\n",
       "  </thead>\n",
       "  <tbody>\n",
       "    <tr>\n",
       "      <th>0</th>\n",
       "      <td>0.732</td>\n",
       "      <td>0.860</td>\n",
       "    </tr>\n",
       "    <tr>\n",
       "      <th>1</th>\n",
       "      <td>0.604</td>\n",
       "      <td>0.511</td>\n",
       "    </tr>\n",
       "    <tr>\n",
       "      <th>2</th>\n",
       "      <td>0.011</td>\n",
       "      <td>0.116</td>\n",
       "    </tr>\n",
       "    <tr>\n",
       "      <th>3</th>\n",
       "      <td>0.011</td>\n",
       "      <td>0.511</td>\n",
       "    </tr>\n",
       "    <tr>\n",
       "      <th>4</th>\n",
       "      <td>0.906</td>\n",
       "      <td>0.511</td>\n",
       "    </tr>\n",
       "  </tbody>\n",
       "</table>\n",
       "</div>"
      ],
      "text/plain": [
       "   sugarpercent  pricepercent\n",
       "0         0.732         0.860\n",
       "1         0.604         0.511\n",
       "2         0.011         0.116\n",
       "3         0.011         0.511\n",
       "4         0.906         0.511"
      ]
     },
     "execution_count": 43,
     "metadata": {},
     "output_type": "execute_result"
    }
   ],
   "source": [
    "X = pd.concat([df[\"sugarpercent\"], df[\"pricepercent\"]], axis=1)\n",
    "X.head()"
   ]
  },
  {
   "cell_type": "code",
   "execution_count": 44,
   "metadata": {},
   "outputs": [
    {
     "name": "stdout",
     "output_type": "stream",
     "text": [
      "Optimization terminated successfully.\n",
      "         Current function value: 0.619123\n",
      "         Iterations 5\n",
      "                           Logit Regression Results                           \n",
      "==============================================================================\n",
      "Dep. Variable:         winpercent_0_1   No. Observations:                   85\n",
      "Model:                          Logit   Df Residuals:                       82\n",
      "Method:                           MLE   Df Model:                            2\n",
      "Date:                Sun, 27 Mar 2022   Pseudo R-squ.:                  0.1024\n",
      "Time:                        21:11:28   Log-Likelihood:                -52.625\n",
      "converged:                       True   LL-Null:                       -58.629\n",
      "Covariance Type:            nonrobust   LLR p-value:                  0.002470\n",
      "================================================================================\n",
      "                   coef    std err          z      P>|z|      [0.025      0.975]\n",
      "--------------------------------------------------------------------------------\n",
      "const           -1.6935      0.580     -2.918      0.004      -2.831      -0.556\n",
      "sugarpercent     0.5896      0.881      0.669      0.503      -1.137       2.316\n",
      "pricepercent     2.6012      0.906      2.871      0.004       0.825       4.377\n",
      "================================================================================\n"
     ]
    },
    {
     "name": "stderr",
     "output_type": "stream",
     "text": [
      "C:\\Users\\dvavk\\anaconda3\\lib\\site-packages\\statsmodels\\tsa\\tsatools.py:142: FutureWarning: In a future version of pandas all arguments of concat except for the argument 'objs' will be keyword-only\n",
      "  x = pd.concat(x[::order], 1)\n"
     ]
    }
   ],
   "source": [
    "y = df[\"winpercent_0_1\"]\n",
    "X_constant = sm.add_constant(X)\n",
    "logit = sm.Logit(y, X_constant).fit()\n",
    "print(logit.summary())"
   ]
  },
  {
   "cell_type": "code",
   "execution_count": 45,
   "metadata": {},
   "outputs": [
    {
     "name": "stdout",
     "output_type": "stream",
     "text": [
      "13.479904218413797\n"
     ]
    }
   ],
   "source": [
    "print(np.exp(2.6012))"
   ]
  },
  {
   "cell_type": "markdown",
   "metadata": {},
   "source": [
    "Чему будет равно отношение шансов при проценте сахара в конфете? Введите ответ в виде десятичной дроби, округлите до двух знаков после запятой."
   ]
  },
  {
   "cell_type": "code",
   "execution_count": 46,
   "metadata": {},
   "outputs": [
    {
     "name": "stdout",
     "output_type": "stream",
     "text": [
      "1.8032669643315304\n"
     ]
    }
   ],
   "source": [
    "print(np.exp(0.5896))"
   ]
  },
  {
   "cell_type": "markdown",
   "metadata": {},
   "source": [
    "Укажите, верно ли следующее утверждение: на уровне значимости 0.05 цена конфеты статистически значимо влияет на ее рейтинг."
   ]
  },
  {
   "cell_type": "markdown",
   "metadata": {},
   "source": [
    "Верно, т.к.  \n",
    "\n",
    "                P>|z|\n",
    "\n",
    "pricepercent    0.004"
   ]
  },
  {
   "cell_type": "markdown",
   "metadata": {},
   "source": [
    "Во сколько раз будет ниже шанс высокого рейтинга конфеты при нулевом содержании сахара и нулевом значении цены? Введите ответ в виде десятичной дроби, округлите до двух знаков после запятой."
   ]
  },
  {
   "cell_type": "code",
   "execution_count": 47,
   "metadata": {},
   "outputs": [
    {
     "name": "stdout",
     "output_type": "stream",
     "text": [
      "0.18387483452370543\n"
     ]
    }
   ],
   "source": [
    "print(np.exp(-1.6935))"
   ]
  },
  {
   "cell_type": "markdown",
   "metadata": {},
   "source": [
    "Постройте логистическую модель, где зависимой переменной выступает winpercent_0_1, а независимыми – центрированные sugarpercent и pricepercent. Во сколько раз будет ниже шанс высокого рейтинга конфеты при среднем содержании сахара и среднем значении цены? Введите ответ в виде десятичной дроби, округлите до двух знаков после запятой."
   ]
  },
  {
   "cell_type": "code",
   "execution_count": 48,
   "metadata": {},
   "outputs": [
    {
     "name": "stdout",
     "output_type": "stream",
     "text": [
      "Optimization terminated successfully.\n",
      "         Current function value: 0.619123\n",
      "         Iterations 5\n",
      "                           Logit Regression Results                           \n",
      "==============================================================================\n",
      "Dep. Variable:         winpercent_0_1   No. Observations:                   85\n",
      "Model:                          Logit   Df Residuals:                       82\n",
      "Method:                           MLE   Df Model:                            2\n",
      "Date:                Sun, 27 Mar 2022   Pseudo R-squ.:                  0.1024\n",
      "Time:                        21:23:00   Log-Likelihood:                -52.625\n",
      "converged:                       True   LL-Null:                       -58.629\n",
      "Covariance Type:            nonrobust   LLR p-value:                  0.002470\n",
      "================================================================================\n",
      "                   coef    std err          z      P>|z|      [0.025      0.975]\n",
      "--------------------------------------------------------------------------------\n",
      "const           -0.1916      0.235     -0.816      0.414      -0.652       0.269\n",
      "sugarpercent     0.5896      0.881      0.669      0.503      -1.137       2.316\n",
      "pricepercent     2.6012      0.906      2.871      0.004       0.825       4.377\n",
      "================================================================================\n"
     ]
    },
    {
     "name": "stderr",
     "output_type": "stream",
     "text": [
      "C:\\Users\\dvavk\\anaconda3\\lib\\site-packages\\statsmodels\\tsa\\tsatools.py:142: FutureWarning: In a future version of pandas all arguments of concat except for the argument 'objs' will be keyword-only\n",
      "  x = pd.concat(x[::order], 1)\n"
     ]
    }
   ],
   "source": [
    "X = pd.concat([df[\"sugarpercent\"]-df[\"sugarpercent\"].mean(), df[\"pricepercent\"]-df[\"pricepercent\"].mean()], axis=1)\n",
    "y = df[\"winpercent_0_1\"]\n",
    "X_constant = sm.add_constant(X)\n",
    "logit = sm.Logit(y, X_constant).fit()\n",
    "print(logit.summary())"
   ]
  },
  {
   "cell_type": "code",
   "execution_count": 49,
   "metadata": {},
   "outputs": [
    {
     "name": "stdout",
     "output_type": "stream",
     "text": [
      "0.8256370572724328\n"
     ]
    }
   ],
   "source": [
    "print(np.exp(-0.1916))"
   ]
  },
  {
   "cell_type": "markdown",
   "metadata": {},
   "source": [
    "Посмотрите на результаты двух моделей (с одной центрированной объясняющей переменной sugarpercent и с двумя центрированными объясняющими переменными sugarpercent и pricepercent. Укажите, верно ли следующее утверждение: у модели с большим количеством объясняющих переменных качество выше. Обратите внимание на на псевдо R-квадрат."
   ]
  },
  {
   "cell_type": "code",
   "execution_count": 50,
   "metadata": {},
   "outputs": [
    {
     "name": "stdout",
     "output_type": "stream",
     "text": [
      "Optimization terminated successfully.\n",
      "         Current function value: 0.672972\n",
      "         Iterations 4\n",
      "                           Logit Regression Results                           \n",
      "==============================================================================\n",
      "Dep. Variable:         winpercent_0_1   No. Observations:                   85\n",
      "Model:                          Logit   Df Residuals:                       83\n",
      "Method:                           MLE   Df Model:                            1\n",
      "Date:                Sun, 27 Mar 2022   Pseudo R-squ.:                 0.02433\n",
      "Time:                        21:26:04   Log-Likelihood:                -57.203\n",
      "converged:                       True   LL-Null:                       -58.629\n",
      "Covariance Type:            nonrobust   LLR p-value:                   0.09122\n",
      "================================================================================\n",
      "                   coef    std err          z      P>|z|      [0.025      0.975]\n",
      "--------------------------------------------------------------------------------\n",
      "const           -0.1704      0.221     -0.769      0.442      -0.604       0.264\n",
      "sugarpercent     1.3276      0.798      1.663      0.096      -0.237       2.892\n",
      "================================================================================\n"
     ]
    },
    {
     "name": "stderr",
     "output_type": "stream",
     "text": [
      "C:\\Users\\dvavk\\anaconda3\\lib\\site-packages\\statsmodels\\tsa\\tsatools.py:142: FutureWarning: In a future version of pandas all arguments of concat except for the argument 'objs' will be keyword-only\n",
      "  x = pd.concat(x[::order], 1)\n"
     ]
    }
   ],
   "source": [
    "X = pd.concat([df[\"sugarpercent\"]-df[\"sugarpercent\"].mean()], axis=1)\n",
    "y = df[\"winpercent_0_1\"]\n",
    "X_constant = sm.add_constant(X)\n",
    "logit = sm.Logit(y, X_constant).fit()\n",
    "print(logit.summary())"
   ]
  },
  {
   "cell_type": "markdown",
   "metadata": {},
   "source": [
    "у модели с двумя переменными  \n",
    "Pseudo R-squ.: 0.1024  \n",
    "у модели с одной переменной  \n",
    "Pseudo R-squ.: 0.02433  "
   ]
  },
  {
   "cell_type": "markdown",
   "metadata": {},
   "source": [
    "Верно, т.к. 0.1024 > 0.02433"
   ]
  }
 ],
 "metadata": {
  "interpreter": {
   "hash": "a52ae00c95c18ba478ad15eab76962cf8874bd0c241644c8193467a4b82be365"
  },
  "kernelspec": {
   "display_name": "Python 3.9.7 ('base')",
   "language": "python",
   "name": "python3"
  },
  "language_info": {
   "codemirror_mode": {
    "name": "ipython",
    "version": 3
   },
   "file_extension": ".py",
   "mimetype": "text/x-python",
   "name": "python",
   "nbconvert_exporter": "python",
   "pygments_lexer": "ipython3",
   "version": "3.9.7"
  },
  "orig_nbformat": 4
 },
 "nbformat": 4,
 "nbformat_minor": 2
}
