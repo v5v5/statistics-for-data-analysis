{
 "cells": [
  {
   "cell_type": "code",
   "execution_count": 117,
   "metadata": {},
   "outputs": [],
   "source": [
    "import pandas as pd\n",
    "import numpy as np\n",
    "import scipy.stats"
   ]
  },
  {
   "cell_type": "code",
   "execution_count": 118,
   "metadata": {},
   "outputs": [
    {
     "data": {
      "text/html": [
       "<div>\n",
       "<style scoped>\n",
       "    .dataframe tbody tr th:only-of-type {\n",
       "        vertical-align: middle;\n",
       "    }\n",
       "\n",
       "    .dataframe tbody tr th {\n",
       "        vertical-align: top;\n",
       "    }\n",
       "\n",
       "    .dataframe thead th {\n",
       "        text-align: right;\n",
       "    }\n",
       "</style>\n",
       "<table border=\"1\" class=\"dataframe\">\n",
       "  <thead>\n",
       "    <tr style=\"text-align: right;\">\n",
       "      <th></th>\n",
       "      <th>statefips</th>\n",
       "      <th>state</th>\n",
       "      <th>gisjoin</th>\n",
       "      <th>lat_tract</th>\n",
       "      <th>long_tract</th>\n",
       "      <th>population</th>\n",
       "      <th>adj_radiuspop_5</th>\n",
       "      <th>urbanindex</th>\n",
       "      <th>log_pop</th>\n",
       "    </tr>\n",
       "  </thead>\n",
       "  <tbody>\n",
       "    <tr>\n",
       "      <th>0</th>\n",
       "      <td>1</td>\n",
       "      <td>Alabama</td>\n",
       "      <td>G0100010020100</td>\n",
       "      <td>32.47718</td>\n",
       "      <td>-86.49007</td>\n",
       "      <td>1845</td>\n",
       "      <td>44076.0</td>\n",
       "      <td>10.69367</td>\n",
       "      <td>7.520235</td>\n",
       "    </tr>\n",
       "    <tr>\n",
       "      <th>1</th>\n",
       "      <td>1</td>\n",
       "      <td>Alabama</td>\n",
       "      <td>G0100010020200</td>\n",
       "      <td>32.47425</td>\n",
       "      <td>-86.47337</td>\n",
       "      <td>2172</td>\n",
       "      <td>43008.0</td>\n",
       "      <td>10.669139999999999</td>\n",
       "      <td>7.683404</td>\n",
       "    </tr>\n",
       "    <tr>\n",
       "      <th>2</th>\n",
       "      <td>1</td>\n",
       "      <td>Alabama</td>\n",
       "      <td>G0100010020300</td>\n",
       "      <td>32.475429999999996</td>\n",
       "      <td>-86.46019</td>\n",
       "      <td>3385</td>\n",
       "      <td>38987.0</td>\n",
       "      <td>10.57098</td>\n",
       "      <td>8.127109</td>\n",
       "    </tr>\n",
       "    <tr>\n",
       "      <th>3</th>\n",
       "      <td>1</td>\n",
       "      <td>Alabama</td>\n",
       "      <td>G0100010020400</td>\n",
       "      <td>32.472</td>\n",
       "      <td>-86.44363</td>\n",
       "      <td>4267</td>\n",
       "      <td>43131.0</td>\n",
       "      <td>10.672</td>\n",
       "      <td>8.358666</td>\n",
       "    </tr>\n",
       "    <tr>\n",
       "      <th>4</th>\n",
       "      <td>1</td>\n",
       "      <td>Alabama</td>\n",
       "      <td>G0100010020500</td>\n",
       "      <td>32.45883</td>\n",
       "      <td>-86.42266</td>\n",
       "      <td>9965</td>\n",
       "      <td>43131.0</td>\n",
       "      <td>10.672</td>\n",
       "      <td>9.206834</td>\n",
       "    </tr>\n",
       "    <tr>\n",
       "      <th>...</th>\n",
       "      <td>...</td>\n",
       "      <td>...</td>\n",
       "      <td>...</td>\n",
       "      <td>...</td>\n",
       "      <td>...</td>\n",
       "      <td>...</td>\n",
       "      <td>...</td>\n",
       "      <td>...</td>\n",
       "      <td>...</td>\n",
       "    </tr>\n",
       "    <tr>\n",
       "      <th>73275</th>\n",
       "      <td>72</td>\n",
       "      <td>Puerto Rico</td>\n",
       "      <td>G7201530750501</td>\n",
       "      <td>18.03124</td>\n",
       "      <td>-66.86725</td>\n",
       "      <td>6011</td>\n",
       "      <td>52155.0</td>\n",
       "      <td>10.86198</td>\n",
       "      <td>8.701346</td>\n",
       "    </tr>\n",
       "    <tr>\n",
       "      <th>73276</th>\n",
       "      <td>72</td>\n",
       "      <td>Puerto Rico</td>\n",
       "      <td>G7201530750502</td>\n",
       "      <td>18.02477</td>\n",
       "      <td>-66.86044</td>\n",
       "      <td>2342</td>\n",
       "      <td>55257.0</td>\n",
       "      <td>10.91975</td>\n",
       "      <td>7.758761</td>\n",
       "    </tr>\n",
       "    <tr>\n",
       "      <th>73277</th>\n",
       "      <td>72</td>\n",
       "      <td>Puerto Rico</td>\n",
       "      <td>G7201530750503</td>\n",
       "      <td>18.025270000000003</td>\n",
       "      <td>-66.87763</td>\n",
       "      <td>2218</td>\n",
       "      <td>48423.0</td>\n",
       "      <td>10.78773</td>\n",
       "      <td>7.704361</td>\n",
       "    </tr>\n",
       "    <tr>\n",
       "      <th>73278</th>\n",
       "      <td>72</td>\n",
       "      <td>Puerto Rico</td>\n",
       "      <td>G7201530750601</td>\n",
       "      <td>18.01738</td>\n",
       "      <td>-66.83936</td>\n",
       "      <td>4380</td>\n",
       "      <td>50600.0</td>\n",
       "      <td>10.831710000000001</td>\n",
       "      <td>8.384804</td>\n",
       "    </tr>\n",
       "    <tr>\n",
       "      <th>73279</th>\n",
       "      <td>72</td>\n",
       "      <td>Puerto Rico</td>\n",
       "      <td>G7201530750602</td>\n",
       "      <td>17.98674</td>\n",
       "      <td>-66.85192</td>\n",
       "      <td>3001</td>\n",
       "      <td>44921.0</td>\n",
       "      <td>10.712660000000001</td>\n",
       "      <td>8.006701</td>\n",
       "    </tr>\n",
       "  </tbody>\n",
       "</table>\n",
       "<p>73280 rows × 9 columns</p>\n",
       "</div>"
      ],
      "text/plain": [
       "       statefips        state         gisjoin           lat_tract  long_tract  \\\n",
       "0              1      Alabama  G0100010020100            32.47718   -86.49007   \n",
       "1              1      Alabama  G0100010020200            32.47425   -86.47337   \n",
       "2              1      Alabama  G0100010020300  32.475429999999996   -86.46019   \n",
       "3              1      Alabama  G0100010020400              32.472   -86.44363   \n",
       "4              1      Alabama  G0100010020500            32.45883   -86.42266   \n",
       "...          ...          ...             ...                 ...         ...   \n",
       "73275         72  Puerto Rico  G7201530750501            18.03124   -66.86725   \n",
       "73276         72  Puerto Rico  G7201530750502            18.02477   -66.86044   \n",
       "73277         72  Puerto Rico  G7201530750503  18.025270000000003   -66.87763   \n",
       "73278         72  Puerto Rico  G7201530750601            18.01738   -66.83936   \n",
       "73279         72  Puerto Rico  G7201530750602            17.98674   -66.85192   \n",
       "\n",
       "       population  adj_radiuspop_5          urbanindex   log_pop  \n",
       "0            1845          44076.0            10.69367  7.520235  \n",
       "1            2172          43008.0  10.669139999999999  7.683404  \n",
       "2            3385          38987.0            10.57098  8.127109  \n",
       "3            4267          43131.0              10.672  8.358666  \n",
       "4            9965          43131.0              10.672  9.206834  \n",
       "...           ...              ...                 ...       ...  \n",
       "73275        6011          52155.0            10.86198  8.701346  \n",
       "73276        2342          55257.0            10.91975  7.758761  \n",
       "73277        2218          48423.0            10.78773  7.704361  \n",
       "73278        4380          50600.0  10.831710000000001  8.384804  \n",
       "73279        3001          44921.0  10.712660000000001  8.006701  \n",
       "\n",
       "[73280 rows x 9 columns]"
      ]
     },
     "execution_count": 118,
     "metadata": {},
     "output_type": "execute_result"
    }
   ],
   "source": [
    "df = pd.read_excel('data/UrbanizationCensusTract.xlsx')\n",
    "df"
   ]
  },
  {
   "cell_type": "markdown",
   "metadata": {},
   "source": [
    "Сравните дисперсии по переменной log_pop в штатах Вайоминг (Wyoming) и Южная Дакота (South Dakota). Укажите, верно ли следующее утверждение: полученные дисперсии равны."
   ]
  },
  {
   "cell_type": "code",
   "execution_count": 119,
   "metadata": {},
   "outputs": [
    {
     "name": "stdout",
     "output_type": "stream",
     "text": [
      "0.18517126178551693 0.24738635408141207\n"
     ]
    }
   ],
   "source": [
    "dfWyoming = df[df['state']=='Wyoming']['log_pop']\n",
    "dfSouthDakota = df[df['state']=='South Dakota']['log_pop']\n",
    "v1 = varWyoming = dfWyoming.var()\n",
    "# v1 = varWyoming = np.var(dfWyoming, ddof = 0)\n",
    "# v1 = varWyoming = np.var(dfWyoming, ddof = 1)\n",
    "v2 = varSouthDakota = dfSouthDakota.var()\n",
    "# v2 = varSouthDakota = np.var(dfSouthDakota, ddof=0)\n",
    "# v2 = varSouthDakota = np.var(dfSouthDakota, ddof=1)\n",
    "print(v1, v2)\n"
   ]
  },
  {
   "cell_type": "markdown",
   "metadata": {},
   "source": [
    "Чему будет равно количество степеней свободы для указанной выше переменной и штатов с поправкой Уэлча? Рассчитайте показатель вручную. Выберите один верный ответ."
   ]
  },
  {
   "cell_type": "markdown",
   "metadata": {},
   "source": [
    "### Поправка Уэлча\n",
    "<!-- $ -->\n",
    "\\begin{align}\n",
    "df = \\frac{(V_1 + V_2)^2}{\\frac{V^2_1}{n_1 - 1} + \\frac{V^2_2}{n_2 - 1}}\n",
    "\\end{align}\n",
    "<!-- $ -->\n",
    "\n",
    "$\n",
    "V_1 = \\frac{s^2_1}{n_1}; V_2 = \\frac{s^2_2}{n_2}\n",
    "$"
   ]
  },
  {
   "cell_type": "code",
   "execution_count": 120,
   "metadata": {},
   "outputs": [
    {
     "name": "stdout",
     "output_type": "stream",
     "text": [
      "131 219\n"
     ]
    }
   ],
   "source": [
    "n1 = nWyoming = len(dfWyoming)\n",
    "n2 = nSouthDakota = len(dfSouthDakota)\n",
    "print(nWyoming, nSouthDakota)"
   ]
  },
  {
   "cell_type": "code",
   "execution_count": 121,
   "metadata": {},
   "outputs": [
    {
     "name": "stdout",
     "output_type": "stream",
     "text": [
      "0.0014135210823321904 0.0011296180551662652\n"
     ]
    }
   ],
   "source": [
    "V1 = v1 / n1\n",
    "V2 = v2 / n2\n",
    "print(V1, V2)"
   ]
  },
  {
   "cell_type": "code",
   "execution_count": 122,
   "metadata": {},
   "outputs": [
    {
     "data": {
      "text/plain": [
       "304"
      ]
     },
     "execution_count": 122,
     "metadata": {},
     "output_type": "execute_result"
    }
   ],
   "source": [
    "df = int((V1 + V2) ** 2 / ((V1 ** 2 / (n1 - 1)) + (V2 ** 2 / (n2 - 1))))\n",
    "df"
   ]
  },
  {
   "cell_type": "markdown",
   "metadata": {},
   "source": [
    "Чему равна стандартная ошибка для выбранных выше штатов и переменной? Выберите один верный ответ."
   ]
  },
  {
   "cell_type": "code",
   "execution_count": 132,
   "metadata": {},
   "outputs": [
    {
     "data": {
      "text/plain": [
       "0.050429546274961226"
      ]
     },
     "execution_count": 132,
     "metadata": {},
     "output_type": "execute_result"
    }
   ],
   "source": [
    "S_m1_m2 = (V1 + V2) ** (1/2)\n",
    "S_m1_m2"
   ]
  },
  {
   "cell_type": "markdown",
   "metadata": {},
   "source": [
    "Чему равна разность между средними выборок по указанным выше штатам? Выберите один верный ответ."
   ]
  },
  {
   "cell_type": "code",
   "execution_count": 126,
   "metadata": {},
   "outputs": [
    {
     "data": {
      "text/plain": [
       "0.17812507657673038"
      ]
     },
     "execution_count": 126,
     "metadata": {},
     "output_type": "execute_result"
    }
   ],
   "source": [
    "d_mean = dfWyoming.mean()-dfSouthDakota.mean()\n",
    "d_mean"
   ]
  },
  {
   "cell_type": "markdown",
   "metadata": {},
   "source": [
    "Чему получилось равно t-значение для указанных выше штатов и переменной log_pop ? Введите ответ в виде модуля десятичной дроби, округлите до двух знаков после запятой."
   ]
  },
  {
   "cell_type": "code",
   "execution_count": 128,
   "metadata": {},
   "outputs": [
    {
     "data": {
      "text/plain": [
       "3.532157033607325"
      ]
     },
     "execution_count": 128,
     "metadata": {},
     "output_type": "execute_result"
    }
   ],
   "source": [
    "t = d_mean / S\n",
    "t"
   ]
  },
  {
   "cell_type": "markdown",
   "metadata": {},
   "source": [
    "Чему получилось равно t-критическое для уровня значимости 0.01? Введите ответ в виде десятичной дроби, округлите до двух знаков после запятой."
   ]
  },
  {
   "cell_type": "code",
   "execution_count": 134,
   "metadata": {},
   "outputs": [],
   "source": [
    "t_critical = 2.592"
   ]
  },
  {
   "cell_type": "markdown",
   "metadata": {},
   "source": [
    "Рассчитайте доверительный интервал для разницы между средними по указанным штатам и переменной. Какое из следующих утверждений верно? Выберите один верный ответ."
   ]
  },
  {
   "cell_type": "markdown",
   "metadata": {},
   "source": [
    "### Доверительный интервал\n",
    "$\n",
    "CI = (M1 + M2) ± t*s_{(M_1 - M_2)}\n",
    "$"
   ]
  },
  {
   "cell_type": "code",
   "execution_count": 135,
   "metadata": {},
   "outputs": [
    {
     "name": "stdout",
     "output_type": "stream",
     "text": [
      "0.04741169263203088 0.3088384605214299\n"
     ]
    }
   ],
   "source": [
    "mean_1 = dfWyoming.mean()\n",
    "mean_2 = dfSouthDakota.mean()\n",
    "CI_low = (mean_1 - mean_2) - t_critical * S_m1_m2\n",
    "CI_high = (mean_1 - mean_2) + t_critical * S_m1_m2\n",
    "print(CI_low, CI_high)"
   ]
  }
 ],
 "metadata": {
  "interpreter": {
   "hash": "a52ae00c95c18ba478ad15eab76962cf8874bd0c241644c8193467a4b82be365"
  },
  "kernelspec": {
   "display_name": "Python 3.9.7 ('base')",
   "language": "python",
   "name": "python3"
  },
  "language_info": {
   "codemirror_mode": {
    "name": "ipython",
    "version": 3
   },
   "file_extension": ".py",
   "mimetype": "text/x-python",
   "name": "python",
   "nbconvert_exporter": "python",
   "pygments_lexer": "ipython3",
   "version": "3.9.7"
  },
  "orig_nbformat": 4
 },
 "nbformat": 4,
 "nbformat_minor": 2
}
