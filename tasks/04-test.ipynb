{
 "cells": [
  {
   "cell_type": "code",
   "execution_count": 375,
   "metadata": {},
   "outputs": [],
   "source": [
    "import pandas as pd\n",
    "import numpy as np"
   ]
  },
  {
   "cell_type": "code",
   "execution_count": 376,
   "metadata": {},
   "outputs": [],
   "source": [
    "df = pd.read_excel('data/MarvelComicCaracters.xlsx')"
   ]
  },
  {
   "cell_type": "code",
   "execution_count": 377,
   "metadata": {},
   "outputs": [
    {
     "name": "stdout",
     "output_type": "stream",
     "text": [
      "<class 'pandas.core.frame.DataFrame'>\n",
      "RangeIndex: 16376 entries, 0 to 16375\n",
      "Data columns (total 7 columns):\n",
      " #   Column            Non-Null Count  Dtype  \n",
      "---  ------            --------------  -----  \n",
      " 0   name              16376 non-null  object \n",
      " 1   align             13564 non-null  object \n",
      " 2   eye               6609 non-null   object \n",
      " 3   hair              9989 non-null   object \n",
      " 4   sex               15522 non-null  object \n",
      " 5   appearances       15280 non-null  float64\n",
      " 6   first_appearance  15561 non-null  float64\n",
      "dtypes: float64(2), object(5)\n",
      "memory usage: 895.7+ KB\n"
     ]
    }
   ],
   "source": [
    "df.info()"
   ]
  },
  {
   "cell_type": "markdown",
   "metadata": {},
   "source": [
    "Сколько пропущенных значений в переменной appearances? Выберите один верный ответ."
   ]
  },
  {
   "cell_type": "code",
   "execution_count": 378,
   "metadata": {},
   "outputs": [
    {
     "data": {
      "text/plain": [
       "1096"
      ]
     },
     "execution_count": 378,
     "metadata": {},
     "output_type": "execute_result"
    }
   ],
   "source": [
    "df['appearances'].isna().sum()"
   ]
  },
  {
   "cell_type": "markdown",
   "metadata": {},
   "source": [
    "Укажите, верно ли следующее утверждение: наибольший межквартильный размах по переменной appearances будет для злых персонажей. Вам понадобятся данные по типу персонажа (переменная align), удалите пропущенные значения по столбцу appearances и посчитайте требуемую меру разброса."
   ]
  },
  {
   "cell_type": "code",
   "execution_count": 379,
   "metadata": {},
   "outputs": [
    {
     "data": {
      "text/plain": [
       "(15280, 7)"
      ]
     },
     "execution_count": 379,
     "metadata": {},
     "output_type": "execute_result"
    }
   ],
   "source": [
    "df_wo_nan = df.dropna(subset=['appearances'])\n",
    "df_wo_nan.shape"
   ]
  },
  {
   "cell_type": "code",
   "execution_count": 380,
   "metadata": {},
   "outputs": [],
   "source": [
    "df_evil = df_wo_nan[df_wo_nan['align'] == 'Злой персонаж']"
   ]
  },
  {
   "cell_type": "code",
   "execution_count": 381,
   "metadata": {},
   "outputs": [],
   "source": [
    "df_good = df_wo_nan[df_wo_nan['align'] == 'Добрый персонаж']"
   ]
  },
  {
   "cell_type": "code",
   "execution_count": 382,
   "metadata": {},
   "outputs": [
    {
     "name": "stdout",
     "output_type": "stream",
     "text": [
      "5.0\n"
     ]
    }
   ],
   "source": [
    "qe1 = df_evil['appearances'].quantile(0.25)\n",
    "qe3 = df_evil['appearances'].quantile(0.75)\n",
    "iqre = qe3 - qe1\n",
    "print(iqre)"
   ]
  },
  {
   "cell_type": "code",
   "execution_count": 383,
   "metadata": {},
   "outputs": [
    {
     "name": "stdout",
     "output_type": "stream",
     "text": [
      "13.0\n"
     ]
    }
   ],
   "source": [
    "qg1 = df_good['appearances'].quantile(0.25)\n",
    "qg3 = df_good['appearances'].quantile(0.75)\n",
    "iqrg = qg3 - qg1\n",
    "print(iqrg)"
   ]
  },
  {
   "cell_type": "markdown",
   "metadata": {},
   "source": [
    "Сколько выбросов встречается по переменной appearances? Работайте с исходными данными, предварительно удалите пропущенные значения по столбцу appearances, используйте для нахождения выбросов межквартильный размах. Выберите один верный ответ."
   ]
  },
  {
   "cell_type": "code",
   "execution_count": 384,
   "metadata": {},
   "outputs": [
    {
     "name": "stdout",
     "output_type": "stream",
     "text": [
      "1.0 8.0 7.0\n",
      "-9.5 18.5\n"
     ]
    },
    {
     "data": {
      "text/plain": [
       "(1938, 7)"
      ]
     },
     "execution_count": 384,
     "metadata": {},
     "output_type": "execute_result"
    }
   ],
   "source": [
    "df_wo_nan = df.dropna(subset=['appearances'])\n",
    "q1 = df_wo_nan['appearances'].quantile(0.25)\n",
    "q3 = df_wo_nan['appearances'].quantile(0.75)\n",
    "irq = q3 - q1\n",
    "print(q1, q3, irq)\n",
    "threshold_up = q3 + 1.5 * irq\n",
    "threshold_down = q1 - 1.5 * irq\n",
    "print(threshold_down, threshold_up)\n",
    "df_wo_nan[(df_wo_nan['appearances'] < threshold_down) | (df_wo_nan['appearances'] > threshold_up)].shape"
   ]
  },
  {
   "cell_type": "markdown",
   "metadata": {},
   "source": [
    "На основе данных, полученных в третьем номере, укажите, верно ли следующее утверждение: наибольшее количество выбросов по переменной appearances наблюдается у добрых персонажей."
   ]
  },
  {
   "cell_type": "code",
   "execution_count": 385,
   "metadata": {},
   "outputs": [
    {
     "data": {
      "text/plain": [
       "(944, 7)"
      ]
     },
     "execution_count": 385,
     "metadata": {},
     "output_type": "execute_result"
    }
   ],
   "source": [
    "df_wo_nan[(df_wo_nan['appearances'] < threshold_down) | (df_wo_nan['appearances'] > threshold_up) & (df_wo_nan['align'] == 'Добрый персонаж')].shape"
   ]
  },
  {
   "cell_type": "code",
   "execution_count": 386,
   "metadata": {},
   "outputs": [
    {
     "data": {
      "text/plain": [
       "(551, 7)"
      ]
     },
     "execution_count": 386,
     "metadata": {},
     "output_type": "execute_result"
    }
   ],
   "source": [
    "df_wo_nan[(df_wo_nan['appearances'] < threshold_down) | (df_wo_nan['appearances'] > threshold_up) & (df_wo_nan['align'] == 'Злой персонаж')].shape"
   ]
  },
  {
   "cell_type": "code",
   "execution_count": 387,
   "metadata": {},
   "outputs": [
    {
     "data": {
      "text/plain": [
       "(285, 7)"
      ]
     },
     "execution_count": 387,
     "metadata": {},
     "output_type": "execute_result"
    }
   ],
   "source": [
    "df_wo_nan[(df_wo_nan['appearances'] < threshold_down) | (df_wo_nan['appearances'] > threshold_up) & (df_wo_nan['align'] == 'Нейтральный персонаж')].shape"
   ]
  },
  {
   "cell_type": "markdown",
   "metadata": {},
   "source": [
    "Создайте новую переменную, которая будет представлять собой прологарифмированную переменную appearances. Сколько выбросов получится по новой переменной? Работайте с исходными данными, предварительно удалите пропущенные значения по новому столбцу, используйте для нахождения выбросов три среднеквадратичных отклонения от среднего. Введите ответ в виде целого числа."
   ]
  },
  {
   "cell_type": "code",
   "execution_count": 388,
   "metadata": {},
   "outputs": [
    {
     "name": "stderr",
     "output_type": "stream",
     "text": [
      "C:\\Users\\dvavk\\AppData\\Local\\Temp/ipykernel_7492/3304246161.py:2: SettingWithCopyWarning: \n",
      "A value is trying to be set on a copy of a slice from a DataFrame.\n",
      "Try using .loc[row_indexer,col_indexer] = value instead\n",
      "\n",
      "See the caveats in the documentation: https://pandas.pydata.org/pandas-docs/stable/user_guide/indexing.html#returning-a-view-versus-a-copy\n",
      "  df_wo_nan['appearances log'] = np.log10(df_wo_nan['appearances'])\n"
     ]
    }
   ],
   "source": [
    "df_wo_nan = df.dropna(subset=['appearances'])\n",
    "df_wo_nan['appearances log'] = np.log10(df_wo_nan['appearances'])"
   ]
  },
  {
   "cell_type": "code",
   "execution_count": 389,
   "metadata": {},
   "outputs": [
    {
     "data": {
      "text/plain": [
       "(195, 8)"
      ]
     },
     "execution_count": 389,
     "metadata": {},
     "output_type": "execute_result"
    }
   ],
   "source": [
    "mean = df_wo_nan['appearances log'].mean()\n",
    "std = df_wo_nan['appearances log'].std()\n",
    "threshold_down = mean - 3 * std\n",
    "threshold_up = mean + 3 * std\n",
    "df_wo_nan[(df_wo_nan['appearances log'] < threshold_down) | (df_wo_nan['appearances log'] > threshold_up)].shape"
   ]
  },
  {
   "cell_type": "markdown",
   "metadata": {},
   "source": [
    "Сколько выбросов получится по переменной appearancs? Работайте с исходными данными, предварительно удалите пропущенные значения по столбцу appearances, используйте для нахождения выбросов три среднеквадратичных отклонения от среднего. Введите ответ в виде целого числа."
   ]
  },
  {
   "cell_type": "code",
   "execution_count": 390,
   "metadata": {},
   "outputs": [
    {
     "data": {
      "text/plain": [
       "(128, 8)"
      ]
     },
     "execution_count": 390,
     "metadata": {},
     "output_type": "execute_result"
    }
   ],
   "source": [
    "mean = df_wo_nan['appearances'].mean()\n",
    "std = df_wo_nan['appearances'].std()\n",
    "threshold_down = mean - 3 * std\n",
    "threshold_up = mean + 3 * std\n",
    "df_wo_nan[(df_wo_nan['appearances'] < threshold_down) | (df_wo_nan['appearances'] > threshold_up)].shape"
   ]
  },
  {
   "cell_type": "markdown",
   "metadata": {},
   "source": [
    "Сколько выбросов получится по переменной appearancs, если выбраны только женские персонажи? Работайте с исходными данными, выберите женских персонажей, удалите пропущенные значения по столбцу appearancs, используйте для нахождения выбросов z-оценку и три среднеквадратичных отклонения от среднего. Введите ответ в виде целого числа."
   ]
  },
  {
   "cell_type": "code",
   "execution_count": 391,
   "metadata": {},
   "outputs": [
    {
     "name": "stdout",
     "output_type": "stream",
     "text": [
      "20.284801333703808 81.51468914613059\n"
     ]
    },
    {
     "name": "stderr",
     "output_type": "stream",
     "text": [
      "C:\\Users\\dvavk\\AppData\\Local\\Temp/ipykernel_7492/75924155.py:5: SettingWithCopyWarning: \n",
      "A value is trying to be set on a copy of a slice from a DataFrame.\n",
      "Try using .loc[row_indexer,col_indexer] = value instead\n",
      "\n",
      "See the caveats in the documentation: https://pandas.pydata.org/pandas-docs/stable/user_guide/indexing.html#returning-a-view-versus-a-copy\n",
      "  df_w['z'] = (df_w['appearances'] - mean) / std\n"
     ]
    },
    {
     "data": {
      "text/html": [
       "<div>\n",
       "<style scoped>\n",
       "    .dataframe tbody tr th:only-of-type {\n",
       "        vertical-align: middle;\n",
       "    }\n",
       "\n",
       "    .dataframe tbody tr th {\n",
       "        vertical-align: top;\n",
       "    }\n",
       "\n",
       "    .dataframe thead th {\n",
       "        text-align: right;\n",
       "    }\n",
       "</style>\n",
       "<table border=\"1\" class=\"dataframe\">\n",
       "  <thead>\n",
       "    <tr style=\"text-align: right;\">\n",
       "      <th></th>\n",
       "      <th>name</th>\n",
       "      <th>align</th>\n",
       "      <th>eye</th>\n",
       "      <th>hair</th>\n",
       "      <th>sex</th>\n",
       "      <th>appearances</th>\n",
       "      <th>first_appearance</th>\n",
       "      <th>appearances log</th>\n",
       "      <th>z</th>\n",
       "    </tr>\n",
       "  </thead>\n",
       "  <tbody>\n",
       "    <tr>\n",
       "      <th>11</th>\n",
       "      <td>Susan Storm (Earth-616)</td>\n",
       "      <td>Добрый персонаж</td>\n",
       "      <td>Голубые глаза</td>\n",
       "      <td>Русые волосы</td>\n",
       "      <td>Женский персонаж</td>\n",
       "      <td>1713.0</td>\n",
       "      <td>1961.0</td>\n",
       "      <td>3.233757</td>\n",
       "      <td>20.765769</td>\n",
       "    </tr>\n",
       "    <tr>\n",
       "      <th>13</th>\n",
       "      <td>Ororo Munroe (Earth-616)</td>\n",
       "      <td>Добрый персонаж</td>\n",
       "      <td>Голубые глаза</td>\n",
       "      <td>Белые волосы</td>\n",
       "      <td>Женский персонаж</td>\n",
       "      <td>1512.0</td>\n",
       "      <td>1975.0</td>\n",
       "      <td>3.179552</td>\n",
       "      <td>18.299956</td>\n",
       "    </tr>\n",
       "    <tr>\n",
       "      <th>17</th>\n",
       "      <td>Mary Jane Watson (Earth-616)</td>\n",
       "      <td>Добрый персонаж</td>\n",
       "      <td>Зеленые глаза</td>\n",
       "      <td>NaN</td>\n",
       "      <td>Женский персонаж</td>\n",
       "      <td>1304.0</td>\n",
       "      <td>1965.0</td>\n",
       "      <td>3.115278</td>\n",
       "      <td>15.748268</td>\n",
       "    </tr>\n",
       "    <tr>\n",
       "      <th>24</th>\n",
       "      <td>Wanda Maximoff (Earth-616)</td>\n",
       "      <td>Добрый персонаж</td>\n",
       "      <td>Зеленые глаза</td>\n",
       "      <td>Каштановые волосы</td>\n",
       "      <td>Женский персонаж</td>\n",
       "      <td>1161.0</td>\n",
       "      <td>1964.0</td>\n",
       "      <td>3.064832</td>\n",
       "      <td>13.993983</td>\n",
       "    </tr>\n",
       "    <tr>\n",
       "      <th>26</th>\n",
       "      <td>Janet van Dyne (Earth-616)</td>\n",
       "      <td>Добрый персонаж</td>\n",
       "      <td>Голубые глаза</td>\n",
       "      <td>NaN</td>\n",
       "      <td>Женский персонаж</td>\n",
       "      <td>1120.0</td>\n",
       "      <td>1963.0</td>\n",
       "      <td>3.049218</td>\n",
       "      <td>13.491006</td>\n",
       "    </tr>\n",
       "    <tr>\n",
       "      <th>...</th>\n",
       "      <td>...</td>\n",
       "      <td>...</td>\n",
       "      <td>...</td>\n",
       "      <td>...</td>\n",
       "      <td>...</td>\n",
       "      <td>...</td>\n",
       "      <td>...</td>\n",
       "      <td>...</td>\n",
       "      <td>...</td>\n",
       "    </tr>\n",
       "    <tr>\n",
       "      <th>15256</th>\n",
       "      <td>Smasher 12 (Earth-616)</td>\n",
       "      <td>Добрый персонаж</td>\n",
       "      <td>NaN</td>\n",
       "      <td>NaN</td>\n",
       "      <td>Женский персонаж</td>\n",
       "      <td>1.0</td>\n",
       "      <td>NaN</td>\n",
       "      <td>0.000000</td>\n",
       "      <td>-0.236581</td>\n",
       "    </tr>\n",
       "    <tr>\n",
       "      <th>15270</th>\n",
       "      <td>Tori Raven (Earth-616)</td>\n",
       "      <td>Нейтральный персонаж</td>\n",
       "      <td>NaN</td>\n",
       "      <td>NaN</td>\n",
       "      <td>Женский персонаж</td>\n",
       "      <td>1.0</td>\n",
       "      <td>NaN</td>\n",
       "      <td>0.000000</td>\n",
       "      <td>-0.236581</td>\n",
       "    </tr>\n",
       "    <tr>\n",
       "      <th>15272</th>\n",
       "      <td>Tumult (Earth-616)</td>\n",
       "      <td>Добрый персонаж</td>\n",
       "      <td>Голубые глаза</td>\n",
       "      <td>Черные волосы</td>\n",
       "      <td>Женский персонаж</td>\n",
       "      <td>1.0</td>\n",
       "      <td>NaN</td>\n",
       "      <td>0.000000</td>\n",
       "      <td>-0.236581</td>\n",
       "    </tr>\n",
       "    <tr>\n",
       "      <th>15273</th>\n",
       "      <td>Vector (Ascendants) (Earth-616)</td>\n",
       "      <td>Добрый персонаж</td>\n",
       "      <td>Черные глаза</td>\n",
       "      <td>Черные волосы</td>\n",
       "      <td>Женский персонаж</td>\n",
       "      <td>1.0</td>\n",
       "      <td>NaN</td>\n",
       "      <td>0.000000</td>\n",
       "      <td>-0.236581</td>\n",
       "    </tr>\n",
       "    <tr>\n",
       "      <th>15279</th>\n",
       "      <td>Zamira (Earth-616)</td>\n",
       "      <td>Добрый персонаж</td>\n",
       "      <td>Темно-карие глаза</td>\n",
       "      <td>Черные волосы</td>\n",
       "      <td>Женский персонаж</td>\n",
       "      <td>1.0</td>\n",
       "      <td>NaN</td>\n",
       "      <td>0.000000</td>\n",
       "      <td>-0.236581</td>\n",
       "    </tr>\n",
       "  </tbody>\n",
       "</table>\n",
       "<p>3599 rows × 9 columns</p>\n",
       "</div>"
      ],
      "text/plain": [
       "                                  name                 align  \\\n",
       "11             Susan Storm (Earth-616)       Добрый персонаж   \n",
       "13            Ororo Munroe (Earth-616)       Добрый персонаж   \n",
       "17        Mary Jane Watson (Earth-616)       Добрый персонаж   \n",
       "24          Wanda Maximoff (Earth-616)       Добрый персонаж   \n",
       "26          Janet van Dyne (Earth-616)       Добрый персонаж   \n",
       "...                                ...                   ...   \n",
       "15256           Smasher 12 (Earth-616)       Добрый персонаж   \n",
       "15270           Tori Raven (Earth-616)  Нейтральный персонаж   \n",
       "15272               Tumult (Earth-616)       Добрый персонаж   \n",
       "15273  Vector (Ascendants) (Earth-616)       Добрый персонаж   \n",
       "15279               Zamira (Earth-616)       Добрый персонаж   \n",
       "\n",
       "                     eye               hair               sex  appearances  \\\n",
       "11         Голубые глаза       Русые волосы  Женский персонаж       1713.0   \n",
       "13         Голубые глаза       Белые волосы  Женский персонаж       1512.0   \n",
       "17         Зеленые глаза                NaN  Женский персонаж       1304.0   \n",
       "24         Зеленые глаза  Каштановые волосы  Женский персонаж       1161.0   \n",
       "26         Голубые глаза                NaN  Женский персонаж       1120.0   \n",
       "...                  ...                ...               ...          ...   \n",
       "15256                NaN                NaN  Женский персонаж          1.0   \n",
       "15270                NaN                NaN  Женский персонаж          1.0   \n",
       "15272      Голубые глаза      Черные волосы  Женский персонаж          1.0   \n",
       "15273       Черные глаза      Черные волосы  Женский персонаж          1.0   \n",
       "15279  Темно-карие глаза      Черные волосы  Женский персонаж          1.0   \n",
       "\n",
       "       first_appearance  appearances log          z  \n",
       "11               1961.0         3.233757  20.765769  \n",
       "13               1975.0         3.179552  18.299956  \n",
       "17               1965.0         3.115278  15.748268  \n",
       "24               1964.0         3.064832  13.993983  \n",
       "26               1963.0         3.049218  13.491006  \n",
       "...                 ...              ...        ...  \n",
       "15256               NaN         0.000000  -0.236581  \n",
       "15270               NaN         0.000000  -0.236581  \n",
       "15272               NaN         0.000000  -0.236581  \n",
       "15273               NaN         0.000000  -0.236581  \n",
       "15279               NaN         0.000000  -0.236581  \n",
       "\n",
       "[3599 rows x 9 columns]"
      ]
     },
     "execution_count": 391,
     "metadata": {},
     "output_type": "execute_result"
    }
   ],
   "source": [
    "df_w = df_wo_nan[df_wo_nan['sex'] == 'Женский персонаж']\n",
    "mean = df_w['appearances'].mean()\n",
    "std = df_w['appearances'].std()\n",
    "print(mean, std)\n",
    "df_w['z'] = (df_w['appearances'] - mean) / std\n",
    "df_w"
   ]
  },
  {
   "cell_type": "code",
   "execution_count": 392,
   "metadata": {},
   "outputs": [
    {
     "data": {
      "text/plain": [
       "(48, 9)"
      ]
     },
     "execution_count": 392,
     "metadata": {},
     "output_type": "execute_result"
    }
   ],
   "source": [
    "df_w[(df_w['z'] < -3) | (df_w['z'] > 3)].shape"
   ]
  },
  {
   "cell_type": "markdown",
   "metadata": {},
   "source": [
    "Сравните среднее значение по переменной appearancs в двух датафреймах — без выбросов, определенных по межквартильному размаху, и без выбросов, определенных по трем среднеквадратичным отклонениям от среднего. Будем считать, что границы датафреймов без выбросов содержат значения верхних и нижних границ, определенных по межквартильному размаху или среднеквадратичному отклонению от среднего. В ответ запишите число (наибольшее среднее из двух), округлите до целого."
   ]
  },
  {
   "cell_type": "code",
   "execution_count": 393,
   "metadata": {},
   "outputs": [],
   "source": [
    "df_wo_nan = df.dropna(subset=['appearances'])"
   ]
  },
  {
   "cell_type": "code",
   "execution_count": 394,
   "metadata": {},
   "outputs": [
    {
     "name": "stdout",
     "output_type": "stream",
     "text": [
      "1.0 8.0 7.0\n",
      "-9.5 18.5\n"
     ]
    },
    {
     "data": {
      "text/plain": [
       "3.9579523309848597"
      ]
     },
     "execution_count": 394,
     "metadata": {},
     "output_type": "execute_result"
    }
   ],
   "source": [
    "q1 = df_wo_nan['appearances'].quantile(0.25)\n",
    "q3 = df_wo_nan['appearances'].quantile(0.75)\n",
    "irq = q3 - q1\n",
    "print(q1, q3, irq)\n",
    "threshold_up = q3 + 1.5 * irq\n",
    "threshold_down = q1 - 1.5 * irq\n",
    "print(threshold_down, threshold_up)\n",
    "mean1 = df_wo_nan[(df_wo_nan['appearances'] >= threshold_down) & (df_wo_nan['appearances'] <= threshold_up)]['appearances'].mean()\n",
    "mean1"
   ]
  },
  {
   "cell_type": "code",
   "execution_count": 400,
   "metadata": {},
   "outputs": [
    {
     "data": {
      "text/plain": [
       "10.509701689545935"
      ]
     },
     "execution_count": 400,
     "metadata": {},
     "output_type": "execute_result"
    }
   ],
   "source": [
    "mean = df_wo_nan['appearances'].mean()\n",
    "std = df_wo_nan['appearances'].std()\n",
    "threshold_down = mean - 3 * std\n",
    "threshold_up = mean + 3 * std\n",
    "mean2 = df_wo_nan[(df_wo_nan['appearances'] >= threshold_down) & (df_wo_nan['appearances'] <= threshold_up)]['appearances'].mean()\n",
    "mean2"
   ]
  },
  {
   "cell_type": "markdown",
   "metadata": {},
   "source": [
    "Укажите, верно ли следующее утверждение: в датафрейме для добрых женских персонажей мода по переменной hair не изменится, если удалить выбросы по переменной appearances. Работайте с исходными данными, предварительно удалите пропущенные значения по столбцу appearances, используйте для нахождения выбросов межквартильный размах."
   ]
  },
  {
   "cell_type": "code",
   "execution_count": 401,
   "metadata": {},
   "outputs": [
    {
     "data": {
      "text/plain": [
       "Черные волосы        418\n",
       "Русые волосы         309\n",
       "Каштановые волосы    236\n",
       "Белые волосы          56\n",
       "Name: hair, dtype: int64"
      ]
     },
     "execution_count": 401,
     "metadata": {},
     "output_type": "execute_result"
    }
   ],
   "source": [
    "df_wo_nan = df.dropna(subset=['appearances'])\n",
    "df_w = df_wo_nan[(df_wo_nan['sex'] == 'Женский персонаж') & (df_wo_nan['align'] == 'Добрый персонаж')]\n",
    "df_w['hair'].value_counts()[0:4]"
   ]
  },
  {
   "cell_type": "code",
   "execution_count": 402,
   "metadata": {},
   "outputs": [
    {
     "name": "stdout",
     "output_type": "stream",
     "text": [
      "2.0 18.0 16.0\n",
      "-22.0 42.0\n"
     ]
    },
    {
     "data": {
      "text/plain": [
       "Черные волосы        349\n",
       "Русые волосы         264\n",
       "Каштановые волосы    210\n",
       "Белые волосы          46\n",
       "Name: hair, dtype: int64"
      ]
     },
     "execution_count": 402,
     "metadata": {},
     "output_type": "execute_result"
    }
   ],
   "source": [
    "q1 = df_w['appearances'].quantile(0.25)\n",
    "q3 = df_w['appearances'].quantile(0.75)\n",
    "irq = q3 - q1\n",
    "print(q1, q3, irq)\n",
    "threshold_up = q3 + 1.5 * irq\n",
    "threshold_down = q1 - 1.5 * irq\n",
    "print(threshold_down, threshold_up)\n",
    "df_w[(df_w['appearances'] >= threshold_down) & (df_w['appearances'] <= threshold_up)]['hair'].value_counts()[0:4]\n"
   ]
  },
  {
   "cell_type": "markdown",
   "metadata": {},
   "source": [
    "Выберите только злых персонажей. Сравните медиану по переменной appearances в двух датафреймах — с выбросами и без выбросов, определенных по межквартильному размаху. В ответ запишите число (наибольшее среднее из двух), округлите до целого."
   ]
  },
  {
   "cell_type": "code",
   "execution_count": 398,
   "metadata": {},
   "outputs": [
    {
     "data": {
      "text/plain": [
       "4.0"
      ]
     },
     "execution_count": 398,
     "metadata": {},
     "output_type": "execute_result"
    }
   ],
   "source": [
    "df_wo_nan = df.dropna(subset=['appearances'])\n",
    "df_evil = df_wo_nan[df_wo_nan['align'] == 'Злой персонаж']\n",
    "df_w['appearances'].median()"
   ]
  },
  {
   "cell_type": "code",
   "execution_count": 399,
   "metadata": {},
   "outputs": [
    {
     "name": "stdout",
     "output_type": "stream",
     "text": [
      "1.0 6.0 5.0\n",
      "-6.5 13.5\n"
     ]
    },
    {
     "data": {
      "text/plain": [
       "2.0"
      ]
     },
     "execution_count": 399,
     "metadata": {},
     "output_type": "execute_result"
    }
   ],
   "source": [
    "q1 = df_evil['appearances'].quantile(0.25)\n",
    "q3 = df_evil['appearances'].quantile(0.75)\n",
    "irq = q3 - q1\n",
    "print(q1, q3, irq)\n",
    "threshold_up = q3 + 1.5 * irq\n",
    "threshold_down = q1 - 1.5 * irq\n",
    "print(threshold_down, threshold_up)\n",
    "df_evil[(df_evil['appearances'] > threshold_down) & (df_evil['appearances'] < threshold_up)]['appearances'].median()"
   ]
  }
 ],
 "metadata": {
  "interpreter": {
   "hash": "a52ae00c95c18ba478ad15eab76962cf8874bd0c241644c8193467a4b82be365"
  },
  "kernelspec": {
   "display_name": "Python 3.9.7 64-bit ('base': conda)",
   "language": "python",
   "name": "python3"
  },
  "language_info": {
   "codemirror_mode": {
    "name": "ipython",
    "version": 3
   },
   "file_extension": ".py",
   "mimetype": "text/x-python",
   "name": "python",
   "nbconvert_exporter": "python",
   "pygments_lexer": "ipython3",
   "version": "3.9.7"
  },
  "orig_nbformat": 4
 },
 "nbformat": 4,
 "nbformat_minor": 2
}
