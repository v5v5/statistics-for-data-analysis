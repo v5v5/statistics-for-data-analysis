{
 "cells": [
  {
   "cell_type": "code",
   "execution_count": 7,
   "metadata": {},
   "outputs": [],
   "source": [
    "import pandas as pd\n",
    "import matplotlib.pyplot as plt"
   ]
  },
  {
   "cell_type": "code",
   "execution_count": 8,
   "metadata": {},
   "outputs": [
    {
     "data": {
      "text/html": [
       "<div>\n",
       "<style scoped>\n",
       "    .dataframe tbody tr th:only-of-type {\n",
       "        vertical-align: middle;\n",
       "    }\n",
       "\n",
       "    .dataframe tbody tr th {\n",
       "        vertical-align: top;\n",
       "    }\n",
       "\n",
       "    .dataframe thead th {\n",
       "        text-align: right;\n",
       "    }\n",
       "</style>\n",
       "<table border=\"1\" class=\"dataframe\">\n",
       "  <thead>\n",
       "    <tr style=\"text-align: right;\">\n",
       "      <th></th>\n",
       "      <th>Title</th>\n",
       "      <th>Date</th>\n",
       "      <th>Issue</th>\n",
       "      <th>Judge1</th>\n",
       "      <th>Judge2</th>\n",
       "      <th>Judge3</th>\n",
       "      <th>Vote1</th>\n",
       "      <th>Vote2</th>\n",
       "      <th>Vote3</th>\n",
       "      <th>Category</th>\n",
       "    </tr>\n",
       "  </thead>\n",
       "  <tbody>\n",
       "    <tr>\n",
       "      <th>0</th>\n",
       "      <td>Hansen v. SkyWest Airlines</td>\n",
       "      <td>12/21/16</td>\n",
       "      <td>1</td>\n",
       "      <td>Briscoe</td>\n",
       "      <td>McKay</td>\n",
       "      <td>Matheson</td>\n",
       "      <td>1</td>\n",
       "      <td>1</td>\n",
       "      <td>1</td>\n",
       "      <td>Title VII</td>\n",
       "    </tr>\n",
       "    <tr>\n",
       "      <th>1</th>\n",
       "      <td>Hansen v. SkyWest Airlines</td>\n",
       "      <td>12/21/16</td>\n",
       "      <td>2</td>\n",
       "      <td>Briscoe</td>\n",
       "      <td>McKay</td>\n",
       "      <td>Matheson</td>\n",
       "      <td>0</td>\n",
       "      <td>0</td>\n",
       "      <td>0</td>\n",
       "      <td>Title VII</td>\n",
       "    </tr>\n",
       "    <tr>\n",
       "      <th>2</th>\n",
       "      <td>Glapion v. Jewell</td>\n",
       "      <td>12/14/16</td>\n",
       "      <td>1</td>\n",
       "      <td>Lucero</td>\n",
       "      <td>Holmes</td>\n",
       "      <td>Moritz</td>\n",
       "      <td>0</td>\n",
       "      <td>0</td>\n",
       "      <td>0</td>\n",
       "      <td>Title VII</td>\n",
       "    </tr>\n",
       "    <tr>\n",
       "      <th>3</th>\n",
       "      <td>Dye v. Moniz</td>\n",
       "      <td>12/06/16</td>\n",
       "      <td>1</td>\n",
       "      <td>Lucero</td>\n",
       "      <td>Holmes</td>\n",
       "      <td>Moritz</td>\n",
       "      <td>0</td>\n",
       "      <td>0</td>\n",
       "      <td>0</td>\n",
       "      <td>Title VII</td>\n",
       "    </tr>\n",
       "    <tr>\n",
       "      <th>4</th>\n",
       "      <td>Lister v. City of Wichita, Kansas</td>\n",
       "      <td>11/15/16</td>\n",
       "      <td>1</td>\n",
       "      <td>Lucero</td>\n",
       "      <td>Matheson</td>\n",
       "      <td>Bacharach</td>\n",
       "      <td>0</td>\n",
       "      <td>0</td>\n",
       "      <td>0</td>\n",
       "      <td>Title VII</td>\n",
       "    </tr>\n",
       "  </tbody>\n",
       "</table>\n",
       "</div>"
      ],
      "text/plain": [
       "                               Title      Date  Issue   Judge1    Judge2  \\\n",
       "0         Hansen v. SkyWest Airlines  12/21/16      1  Briscoe     McKay   \n",
       "1         Hansen v. SkyWest Airlines  12/21/16      2  Briscoe     McKay   \n",
       "2                  Glapion v. Jewell  12/14/16      1   Lucero    Holmes   \n",
       "3                       Dye v. Moniz  12/06/16      1   Lucero    Holmes   \n",
       "4  Lister v. City of Wichita, Kansas  11/15/16      1   Lucero  Matheson   \n",
       "\n",
       "      Judge3  Vote1  Vote2  Vote3   Category  \n",
       "0   Matheson      1      1      1  Title VII  \n",
       "1   Matheson      0      0      0  Title VII  \n",
       "2     Moritz      0      0      0  Title VII  \n",
       "3     Moritz      0      0      0  Title VII  \n",
       "4  Bacharach      0      0      0  Title VII  "
      ]
     },
     "execution_count": 8,
     "metadata": {},
     "output_type": "execute_result"
    }
   ],
   "source": [
    "df = pd.read_excel('../../data/TenthCircuit.xlsx')\n",
    "df.head(5)\n"
   ]
  },
  {
   "cell_type": "markdown",
   "metadata": {},
   "source": [
    "Какой график лучше всех подойдет для визуализации тренда суммарного количества всех рассмотренных дел за каждый год? Выберите один верный ответ."
   ]
  },
  {
   "cell_type": "code",
   "execution_count": 9,
   "metadata": {},
   "outputs": [
    {
     "data": {
      "text/plain": [
       "Category\n",
       "Immigration    554\n",
       "Title VII      400\n",
       "Name: Category, dtype: int64"
      ]
     },
     "execution_count": 9,
     "metadata": {},
     "output_type": "execute_result"
    }
   ],
   "source": [
    "categories_count = df.groupby('Category')['Category'].count()\n",
    "categories_count"
   ]
  },
  {
   "cell_type": "markdown",
   "metadata": {},
   "source": [
    "Укажите, верно ли следующее утверждение: для визуализации суммарного количества дел по каждой категории (переменная Category) подойдет столбчатая диаграмма.."
   ]
  },
  {
   "cell_type": "code",
   "execution_count": 30,
   "metadata": {},
   "outputs": [
    {
     "data": {
      "text/plain": [
       "<BarContainer object of 2 artists>"
      ]
     },
     "execution_count": 30,
     "metadata": {},
     "output_type": "execute_result"
    },
    {
     "data": {
      "image/png": "[encoded data removed]",
      "text/plain": [
       "<Figure size 720x432 with 1 Axes>"
      ]
     },
     "metadata": {
      "needs_background": "light"
     },
     "output_type": "display_data"
    }
   ],
   "source": [
    "fig, ax = plt.subplots(figsize=(10,6))\n",
    "\n",
    "ax.bar(categories_count.index, categories_count, color='orange')"
   ]
  },
  {
   "cell_type": "markdown",
   "metadata": {},
   "source": [
    "Выберите только те наблюдения, где все судьи голосовали одинаково. Постройте столбчатую диаграмму для суммарного количества заседаний по каждой категории и определите, каких заседаний и в какой категории дел больше — тех, где судьи голосовали либерально, или тех, где голоса были консервативны. Выберите один верный ответ."
   ]
  },
  {
   "cell_type": "code",
   "execution_count": 11,
   "metadata": {},
   "outputs": [],
   "source": [
    "df_judges = df[(df['Vote1'] == df['Vote2']) & (df['Vote2'] == df['Vote3'])]\n",
    "# df_count = df_judges.groupby(['Category', 'Vote1']).count()\n",
    "df_count = df_judges.groupby(['Category'])['Vote1'].value_counts()"
   ]
  },
  {
   "cell_type": "code",
   "execution_count": 12,
   "metadata": {},
   "outputs": [
    {
     "data": {
      "text/plain": [
       "MultiIndex([('Immigration', 0),\n",
       "            ('Immigration', 1),\n",
       "            (  'Title VII', 0),\n",
       "            (  'Title VII', 1)],\n",
       "           names=['Category', 'Vote1'])"
      ]
     },
     "execution_count": 12,
     "metadata": {},
     "output_type": "execute_result"
    }
   ],
   "source": [
    "df_count.index"
   ]
  },
  {
   "cell_type": "code",
   "execution_count": 13,
   "metadata": {},
   "outputs": [
    {
     "data": {
      "text/plain": [
       "<AxesSubplot:xlabel='Category,Vote1'>"
      ]
     },
     "execution_count": 13,
     "metadata": {},
     "output_type": "execute_result"
    },
    {
     "data": {
      "image/png": "[encoded data removed]",
      "text/plain": [
       "<Figure size 432x288 with 1 Axes>"
      ]
     },
     "metadata": {
      "needs_background": "light"
     },
     "output_type": "display_data"
    }
   ],
   "source": [
    "df_count.plot(kind='bar')"
   ]
  },
  {
   "cell_type": "markdown",
   "metadata": {},
   "source": [
    "Выберите заседания только за 2016 год. Постройте линейный график и определите, в каких месяцах наблюдались пиковые значения по числу заседаний. Будьте внимательны — даты записаны в формате месяц/день/год. Выберите один верный ответ."
   ]
  },
  {
   "cell_type": "code",
   "execution_count": 14,
   "metadata": {},
   "outputs": [
    {
     "data": {
      "text/html": [
       "<div>\n",
       "<style scoped>\n",
       "    .dataframe tbody tr th:only-of-type {\n",
       "        vertical-align: middle;\n",
       "    }\n",
       "\n",
       "    .dataframe tbody tr th {\n",
       "        vertical-align: top;\n",
       "    }\n",
       "\n",
       "    .dataframe thead th {\n",
       "        text-align: right;\n",
       "    }\n",
       "</style>\n",
       "<table border=\"1\" class=\"dataframe\">\n",
       "  <thead>\n",
       "    <tr style=\"text-align: right;\">\n",
       "      <th></th>\n",
       "      <th>Title</th>\n",
       "      <th>Date</th>\n",
       "      <th>Issue</th>\n",
       "      <th>Judge1</th>\n",
       "      <th>Judge2</th>\n",
       "      <th>Judge3</th>\n",
       "      <th>Vote1</th>\n",
       "      <th>Vote2</th>\n",
       "      <th>Vote3</th>\n",
       "      <th>Category</th>\n",
       "      <th>DateF</th>\n",
       "    </tr>\n",
       "  </thead>\n",
       "  <tbody>\n",
       "    <tr>\n",
       "      <th>0</th>\n",
       "      <td>Hansen v. SkyWest Airlines</td>\n",
       "      <td>12/21/16</td>\n",
       "      <td>1</td>\n",
       "      <td>Briscoe</td>\n",
       "      <td>McKay</td>\n",
       "      <td>Matheson</td>\n",
       "      <td>1</td>\n",
       "      <td>1</td>\n",
       "      <td>1</td>\n",
       "      <td>Title VII</td>\n",
       "      <td>2016-12-21</td>\n",
       "    </tr>\n",
       "    <tr>\n",
       "      <th>1</th>\n",
       "      <td>Hansen v. SkyWest Airlines</td>\n",
       "      <td>12/21/16</td>\n",
       "      <td>2</td>\n",
       "      <td>Briscoe</td>\n",
       "      <td>McKay</td>\n",
       "      <td>Matheson</td>\n",
       "      <td>0</td>\n",
       "      <td>0</td>\n",
       "      <td>0</td>\n",
       "      <td>Title VII</td>\n",
       "      <td>2016-12-21</td>\n",
       "    </tr>\n",
       "    <tr>\n",
       "      <th>2</th>\n",
       "      <td>Glapion v. Jewell</td>\n",
       "      <td>12/14/16</td>\n",
       "      <td>1</td>\n",
       "      <td>Lucero</td>\n",
       "      <td>Holmes</td>\n",
       "      <td>Moritz</td>\n",
       "      <td>0</td>\n",
       "      <td>0</td>\n",
       "      <td>0</td>\n",
       "      <td>Title VII</td>\n",
       "      <td>2016-12-14</td>\n",
       "    </tr>\n",
       "    <tr>\n",
       "      <th>3</th>\n",
       "      <td>Dye v. Moniz</td>\n",
       "      <td>12/06/16</td>\n",
       "      <td>1</td>\n",
       "      <td>Lucero</td>\n",
       "      <td>Holmes</td>\n",
       "      <td>Moritz</td>\n",
       "      <td>0</td>\n",
       "      <td>0</td>\n",
       "      <td>0</td>\n",
       "      <td>Title VII</td>\n",
       "      <td>2016-06-12</td>\n",
       "    </tr>\n",
       "    <tr>\n",
       "      <th>4</th>\n",
       "      <td>Lister v. City of Wichita, Kansas</td>\n",
       "      <td>11/15/16</td>\n",
       "      <td>1</td>\n",
       "      <td>Lucero</td>\n",
       "      <td>Matheson</td>\n",
       "      <td>Bacharach</td>\n",
       "      <td>0</td>\n",
       "      <td>0</td>\n",
       "      <td>0</td>\n",
       "      <td>Title VII</td>\n",
       "      <td>2016-11-15</td>\n",
       "    </tr>\n",
       "  </tbody>\n",
       "</table>\n",
       "</div>"
      ],
      "text/plain": [
       "                               Title      Date  Issue   Judge1    Judge2  \\\n",
       "0         Hansen v. SkyWest Airlines  12/21/16      1  Briscoe     McKay   \n",
       "1         Hansen v. SkyWest Airlines  12/21/16      2  Briscoe     McKay   \n",
       "2                  Glapion v. Jewell  12/14/16      1   Lucero    Holmes   \n",
       "3                       Dye v. Moniz  12/06/16      1   Lucero    Holmes   \n",
       "4  Lister v. City of Wichita, Kansas  11/15/16      1   Lucero  Matheson   \n",
       "\n",
       "      Judge3  Vote1  Vote2  Vote3   Category      DateF  \n",
       "0   Matheson      1      1      1  Title VII 2016-12-21  \n",
       "1   Matheson      0      0      0  Title VII 2016-12-21  \n",
       "2     Moritz      0      0      0  Title VII 2016-12-14  \n",
       "3     Moritz      0      0      0  Title VII 2016-06-12  \n",
       "4  Bacharach      0      0      0  Title VII 2016-11-15  "
      ]
     },
     "execution_count": 14,
     "metadata": {},
     "output_type": "execute_result"
    }
   ],
   "source": [
    "df['DateF'] = pd.to_datetime(df['Date'], dayfirst=True)\n",
    "df16 = df[df['DateF'].dt.year == 2016]\n",
    "df16.head()"
   ]
  },
  {
   "cell_type": "code",
   "execution_count": 15,
   "metadata": {},
   "outputs": [
    {
     "name": "stderr",
     "output_type": "stream",
     "text": [
      "C:\\Users\\dvavk\\AppData\\Local\\Temp/ipykernel_2880/1378088699.py:1: SettingWithCopyWarning: \n",
      "A value is trying to be set on a copy of a slice from a DataFrame.\n",
      "Try using .loc[row_indexer,col_indexer] = value instead\n",
      "\n",
      "See the caveats in the documentation: https://pandas.pydata.org/pandas-docs/stable/user_guide/indexing.html#returning-a-view-versus-a-copy\n",
      "  df16['Month'] = df16['DateF'].dt.month\n"
     ]
    },
    {
     "data": {
      "text/html": [
       "<div>\n",
       "<style scoped>\n",
       "    .dataframe tbody tr th:only-of-type {\n",
       "        vertical-align: middle;\n",
       "    }\n",
       "\n",
       "    .dataframe tbody tr th {\n",
       "        vertical-align: top;\n",
       "    }\n",
       "\n",
       "    .dataframe thead th {\n",
       "        text-align: right;\n",
       "    }\n",
       "</style>\n",
       "<table border=\"1\" class=\"dataframe\">\n",
       "  <thead>\n",
       "    <tr style=\"text-align: right;\">\n",
       "      <th></th>\n",
       "      <th>Title</th>\n",
       "      <th>Date</th>\n",
       "      <th>Issue</th>\n",
       "      <th>Judge1</th>\n",
       "      <th>Judge2</th>\n",
       "      <th>Judge3</th>\n",
       "      <th>Vote1</th>\n",
       "      <th>Vote2</th>\n",
       "      <th>Vote3</th>\n",
       "      <th>Category</th>\n",
       "      <th>DateF</th>\n",
       "      <th>Month</th>\n",
       "    </tr>\n",
       "  </thead>\n",
       "  <tbody>\n",
       "    <tr>\n",
       "      <th>0</th>\n",
       "      <td>Hansen v. SkyWest Airlines</td>\n",
       "      <td>12/21/16</td>\n",
       "      <td>1</td>\n",
       "      <td>Briscoe</td>\n",
       "      <td>McKay</td>\n",
       "      <td>Matheson</td>\n",
       "      <td>1</td>\n",
       "      <td>1</td>\n",
       "      <td>1</td>\n",
       "      <td>Title VII</td>\n",
       "      <td>2016-12-21</td>\n",
       "      <td>12</td>\n",
       "    </tr>\n",
       "    <tr>\n",
       "      <th>1</th>\n",
       "      <td>Hansen v. SkyWest Airlines</td>\n",
       "      <td>12/21/16</td>\n",
       "      <td>2</td>\n",
       "      <td>Briscoe</td>\n",
       "      <td>McKay</td>\n",
       "      <td>Matheson</td>\n",
       "      <td>0</td>\n",
       "      <td>0</td>\n",
       "      <td>0</td>\n",
       "      <td>Title VII</td>\n",
       "      <td>2016-12-21</td>\n",
       "      <td>12</td>\n",
       "    </tr>\n",
       "    <tr>\n",
       "      <th>2</th>\n",
       "      <td>Glapion v. Jewell</td>\n",
       "      <td>12/14/16</td>\n",
       "      <td>1</td>\n",
       "      <td>Lucero</td>\n",
       "      <td>Holmes</td>\n",
       "      <td>Moritz</td>\n",
       "      <td>0</td>\n",
       "      <td>0</td>\n",
       "      <td>0</td>\n",
       "      <td>Title VII</td>\n",
       "      <td>2016-12-14</td>\n",
       "      <td>12</td>\n",
       "    </tr>\n",
       "    <tr>\n",
       "      <th>3</th>\n",
       "      <td>Dye v. Moniz</td>\n",
       "      <td>12/06/16</td>\n",
       "      <td>1</td>\n",
       "      <td>Lucero</td>\n",
       "      <td>Holmes</td>\n",
       "      <td>Moritz</td>\n",
       "      <td>0</td>\n",
       "      <td>0</td>\n",
       "      <td>0</td>\n",
       "      <td>Title VII</td>\n",
       "      <td>2016-06-12</td>\n",
       "      <td>6</td>\n",
       "    </tr>\n",
       "    <tr>\n",
       "      <th>4</th>\n",
       "      <td>Lister v. City of Wichita, Kansas</td>\n",
       "      <td>11/15/16</td>\n",
       "      <td>1</td>\n",
       "      <td>Lucero</td>\n",
       "      <td>Matheson</td>\n",
       "      <td>Bacharach</td>\n",
       "      <td>0</td>\n",
       "      <td>0</td>\n",
       "      <td>0</td>\n",
       "      <td>Title VII</td>\n",
       "      <td>2016-11-15</td>\n",
       "      <td>11</td>\n",
       "    </tr>\n",
       "  </tbody>\n",
       "</table>\n",
       "</div>"
      ],
      "text/plain": [
       "                               Title      Date  Issue   Judge1    Judge2  \\\n",
       "0         Hansen v. SkyWest Airlines  12/21/16      1  Briscoe     McKay   \n",
       "1         Hansen v. SkyWest Airlines  12/21/16      2  Briscoe     McKay   \n",
       "2                  Glapion v. Jewell  12/14/16      1   Lucero    Holmes   \n",
       "3                       Dye v. Moniz  12/06/16      1   Lucero    Holmes   \n",
       "4  Lister v. City of Wichita, Kansas  11/15/16      1   Lucero  Matheson   \n",
       "\n",
       "      Judge3  Vote1  Vote2  Vote3   Category      DateF  Month  \n",
       "0   Matheson      1      1      1  Title VII 2016-12-21     12  \n",
       "1   Matheson      0      0      0  Title VII 2016-12-21     12  \n",
       "2     Moritz      0      0      0  Title VII 2016-12-14     12  \n",
       "3     Moritz      0      0      0  Title VII 2016-06-12      6  \n",
       "4  Bacharach      0      0      0  Title VII 2016-11-15     11  "
      ]
     },
     "execution_count": 15,
     "metadata": {},
     "output_type": "execute_result"
    }
   ],
   "source": [
    "df16['Month'] = df16['DateF'].dt.month\n",
    "df16.head()"
   ]
  },
  {
   "cell_type": "code",
   "execution_count": 16,
   "metadata": {},
   "outputs": [
    {
     "data": {
      "text/plain": [
       "<AxesSubplot:>"
      ]
     },
     "execution_count": 16,
     "metadata": {},
     "output_type": "execute_result"
    },
    {
     "data": {
      "image/png": "[encoded data removed]",
      "text/plain": [
       "<Figure size 432x288 with 1 Axes>"
      ]
     },
     "metadata": {
      "needs_background": "light"
     },
     "output_type": "display_data"
    }
   ],
   "source": [
    "df16['Month'].value_counts().plot(kind='bar')"
   ]
  },
  {
   "cell_type": "markdown",
   "metadata": {},
   "source": [
    "Укажите, верно ли следующее утверждение: для переменных, обозначающих число заседаний и их категорию, можно построить интерпретируемую диаграмму рассеяния."
   ]
  },
  {
   "cell_type": "code",
   "execution_count": 17,
   "metadata": {},
   "outputs": [
    {
     "data": {
      "text/html": [
       "<div>\n",
       "<style scoped>\n",
       "    .dataframe tbody tr th:only-of-type {\n",
       "        vertical-align: middle;\n",
       "    }\n",
       "\n",
       "    .dataframe tbody tr th {\n",
       "        vertical-align: top;\n",
       "    }\n",
       "\n",
       "    .dataframe thead th {\n",
       "        text-align: right;\n",
       "    }\n",
       "</style>\n",
       "<table border=\"1\" class=\"dataframe\">\n",
       "  <thead>\n",
       "    <tr style=\"text-align: right;\">\n",
       "      <th></th>\n",
       "      <th>Title</th>\n",
       "      <th>Date</th>\n",
       "      <th>Issue</th>\n",
       "      <th>Judge1</th>\n",
       "      <th>Judge2</th>\n",
       "      <th>Judge3</th>\n",
       "      <th>Vote1</th>\n",
       "      <th>Vote2</th>\n",
       "      <th>Vote3</th>\n",
       "      <th>Category</th>\n",
       "      <th>DateF</th>\n",
       "    </tr>\n",
       "  </thead>\n",
       "  <tbody>\n",
       "    <tr>\n",
       "      <th>0</th>\n",
       "      <td>Hansen v. SkyWest Airlines</td>\n",
       "      <td>12/21/16</td>\n",
       "      <td>1</td>\n",
       "      <td>Briscoe</td>\n",
       "      <td>McKay</td>\n",
       "      <td>Matheson</td>\n",
       "      <td>1</td>\n",
       "      <td>1</td>\n",
       "      <td>1</td>\n",
       "      <td>Title VII</td>\n",
       "      <td>2016-12-21</td>\n",
       "    </tr>\n",
       "    <tr>\n",
       "      <th>1</th>\n",
       "      <td>Hansen v. SkyWest Airlines</td>\n",
       "      <td>12/21/16</td>\n",
       "      <td>2</td>\n",
       "      <td>Briscoe</td>\n",
       "      <td>McKay</td>\n",
       "      <td>Matheson</td>\n",
       "      <td>0</td>\n",
       "      <td>0</td>\n",
       "      <td>0</td>\n",
       "      <td>Title VII</td>\n",
       "      <td>2016-12-21</td>\n",
       "    </tr>\n",
       "    <tr>\n",
       "      <th>2</th>\n",
       "      <td>Glapion v. Jewell</td>\n",
       "      <td>12/14/16</td>\n",
       "      <td>1</td>\n",
       "      <td>Lucero</td>\n",
       "      <td>Holmes</td>\n",
       "      <td>Moritz</td>\n",
       "      <td>0</td>\n",
       "      <td>0</td>\n",
       "      <td>0</td>\n",
       "      <td>Title VII</td>\n",
       "      <td>2016-12-14</td>\n",
       "    </tr>\n",
       "    <tr>\n",
       "      <th>3</th>\n",
       "      <td>Dye v. Moniz</td>\n",
       "      <td>12/06/16</td>\n",
       "      <td>1</td>\n",
       "      <td>Lucero</td>\n",
       "      <td>Holmes</td>\n",
       "      <td>Moritz</td>\n",
       "      <td>0</td>\n",
       "      <td>0</td>\n",
       "      <td>0</td>\n",
       "      <td>Title VII</td>\n",
       "      <td>2016-06-12</td>\n",
       "    </tr>\n",
       "    <tr>\n",
       "      <th>4</th>\n",
       "      <td>Lister v. City of Wichita, Kansas</td>\n",
       "      <td>11/15/16</td>\n",
       "      <td>1</td>\n",
       "      <td>Lucero</td>\n",
       "      <td>Matheson</td>\n",
       "      <td>Bacharach</td>\n",
       "      <td>0</td>\n",
       "      <td>0</td>\n",
       "      <td>0</td>\n",
       "      <td>Title VII</td>\n",
       "      <td>2016-11-15</td>\n",
       "    </tr>\n",
       "  </tbody>\n",
       "</table>\n",
       "</div>"
      ],
      "text/plain": [
       "                               Title      Date  Issue   Judge1    Judge2  \\\n",
       "0         Hansen v. SkyWest Airlines  12/21/16      1  Briscoe     McKay   \n",
       "1         Hansen v. SkyWest Airlines  12/21/16      2  Briscoe     McKay   \n",
       "2                  Glapion v. Jewell  12/14/16      1   Lucero    Holmes   \n",
       "3                       Dye v. Moniz  12/06/16      1   Lucero    Holmes   \n",
       "4  Lister v. City of Wichita, Kansas  11/15/16      1   Lucero  Matheson   \n",
       "\n",
       "      Judge3  Vote1  Vote2  Vote3   Category      DateF  \n",
       "0   Matheson      1      1      1  Title VII 2016-12-21  \n",
       "1   Matheson      0      0      0  Title VII 2016-12-21  \n",
       "2     Moritz      0      0      0  Title VII 2016-12-14  \n",
       "3     Moritz      0      0      0  Title VII 2016-06-12  \n",
       "4  Bacharach      0      0      0  Title VII 2016-11-15  "
      ]
     },
     "execution_count": 17,
     "metadata": {},
     "output_type": "execute_result"
    }
   ],
   "source": [
    "df.head()"
   ]
  },
  {
   "cell_type": "markdown",
   "metadata": {},
   "source": [
    "Используя исходные данные, определите среднее число заседаний за каждый сезон (зима, весна, лето, осень). Постройте столбчатую диаграмму, определите месяц с наибольшим показателем. Будьте внимательны — даты записаны в формате месяц/день/год. Введите ответ в виде слова (например, осень)."
   ]
  },
  {
   "cell_type": "code",
   "execution_count": 18,
   "metadata": {},
   "outputs": [
    {
     "data": {
      "text/html": [
       "<div>\n",
       "<style scoped>\n",
       "    .dataframe tbody tr th:only-of-type {\n",
       "        vertical-align: middle;\n",
       "    }\n",
       "\n",
       "    .dataframe tbody tr th {\n",
       "        vertical-align: top;\n",
       "    }\n",
       "\n",
       "    .dataframe thead th {\n",
       "        text-align: right;\n",
       "    }\n",
       "</style>\n",
       "<table border=\"1\" class=\"dataframe\">\n",
       "  <thead>\n",
       "    <tr style=\"text-align: right;\">\n",
       "      <th></th>\n",
       "      <th>Title</th>\n",
       "      <th>Date</th>\n",
       "      <th>Issue</th>\n",
       "      <th>Judge1</th>\n",
       "      <th>Judge2</th>\n",
       "      <th>Judge3</th>\n",
       "      <th>Vote1</th>\n",
       "      <th>Vote2</th>\n",
       "      <th>Vote3</th>\n",
       "      <th>Category</th>\n",
       "      <th>DateF</th>\n",
       "      <th>Season</th>\n",
       "    </tr>\n",
       "  </thead>\n",
       "  <tbody>\n",
       "    <tr>\n",
       "      <th>0</th>\n",
       "      <td>Hansen v. SkyWest Airlines</td>\n",
       "      <td>12/21/16</td>\n",
       "      <td>1</td>\n",
       "      <td>Briscoe</td>\n",
       "      <td>McKay</td>\n",
       "      <td>Matheson</td>\n",
       "      <td>1</td>\n",
       "      <td>1</td>\n",
       "      <td>1</td>\n",
       "      <td>Title VII</td>\n",
       "      <td>2016-12-21</td>\n",
       "      <td>0</td>\n",
       "    </tr>\n",
       "    <tr>\n",
       "      <th>1</th>\n",
       "      <td>Hansen v. SkyWest Airlines</td>\n",
       "      <td>12/21/16</td>\n",
       "      <td>2</td>\n",
       "      <td>Briscoe</td>\n",
       "      <td>McKay</td>\n",
       "      <td>Matheson</td>\n",
       "      <td>0</td>\n",
       "      <td>0</td>\n",
       "      <td>0</td>\n",
       "      <td>Title VII</td>\n",
       "      <td>2016-12-21</td>\n",
       "      <td>0</td>\n",
       "    </tr>\n",
       "    <tr>\n",
       "      <th>2</th>\n",
       "      <td>Glapion v. Jewell</td>\n",
       "      <td>12/14/16</td>\n",
       "      <td>1</td>\n",
       "      <td>Lucero</td>\n",
       "      <td>Holmes</td>\n",
       "      <td>Moritz</td>\n",
       "      <td>0</td>\n",
       "      <td>0</td>\n",
       "      <td>0</td>\n",
       "      <td>Title VII</td>\n",
       "      <td>2016-12-14</td>\n",
       "      <td>0</td>\n",
       "    </tr>\n",
       "    <tr>\n",
       "      <th>3</th>\n",
       "      <td>Dye v. Moniz</td>\n",
       "      <td>12/06/16</td>\n",
       "      <td>1</td>\n",
       "      <td>Lucero</td>\n",
       "      <td>Holmes</td>\n",
       "      <td>Moritz</td>\n",
       "      <td>0</td>\n",
       "      <td>0</td>\n",
       "      <td>0</td>\n",
       "      <td>Title VII</td>\n",
       "      <td>2016-06-12</td>\n",
       "      <td>2</td>\n",
       "    </tr>\n",
       "    <tr>\n",
       "      <th>4</th>\n",
       "      <td>Lister v. City of Wichita, Kansas</td>\n",
       "      <td>11/15/16</td>\n",
       "      <td>1</td>\n",
       "      <td>Lucero</td>\n",
       "      <td>Matheson</td>\n",
       "      <td>Bacharach</td>\n",
       "      <td>0</td>\n",
       "      <td>0</td>\n",
       "      <td>0</td>\n",
       "      <td>Title VII</td>\n",
       "      <td>2016-11-15</td>\n",
       "      <td>3</td>\n",
       "    </tr>\n",
       "  </tbody>\n",
       "</table>\n",
       "</div>"
      ],
      "text/plain": [
       "                               Title      Date  Issue   Judge1    Judge2  \\\n",
       "0         Hansen v. SkyWest Airlines  12/21/16      1  Briscoe     McKay   \n",
       "1         Hansen v. SkyWest Airlines  12/21/16      2  Briscoe     McKay   \n",
       "2                  Glapion v. Jewell  12/14/16      1   Lucero    Holmes   \n",
       "3                       Dye v. Moniz  12/06/16      1   Lucero    Holmes   \n",
       "4  Lister v. City of Wichita, Kansas  11/15/16      1   Lucero  Matheson   \n",
       "\n",
       "      Judge3  Vote1  Vote2  Vote3   Category      DateF  Season  \n",
       "0   Matheson      1      1      1  Title VII 2016-12-21       0  \n",
       "1   Matheson      0      0      0  Title VII 2016-12-21       0  \n",
       "2     Moritz      0      0      0  Title VII 2016-12-14       0  \n",
       "3     Moritz      0      0      0  Title VII 2016-06-12       2  \n",
       "4  Bacharach      0      0      0  Title VII 2016-11-15       3  "
      ]
     },
     "execution_count": 18,
     "metadata": {},
     "output_type": "execute_result"
    }
   ],
   "source": [
    "# вычистяем сезон 0 - зима, 1 - весна, 2 - лето, 3 - осень\n",
    "df['Season'] = df['DateF'].dt.month % 12 // 3\n",
    "df.head()"
   ]
  },
  {
   "cell_type": "code",
   "execution_count": 19,
   "metadata": {},
   "outputs": [
    {
     "data": {
      "text/plain": [
       "<AxesSubplot:xlabel='Season'>"
      ]
     },
     "execution_count": 19,
     "metadata": {},
     "output_type": "execute_result"
    },
    {
     "data": {
      "image/png": "[encoded data removed]",
      "text/plain": [
       "<Figure size 432x288 with 1 Axes>"
      ]
     },
     "metadata": {
      "needs_background": "light"
     },
     "output_type": "display_data"
    }
   ],
   "source": [
    "df.groupby('Season')['Title'].count().plot(kind='bar')"
   ]
  },
  {
   "cell_type": "markdown",
   "metadata": {},
   "source": [
    "Выберите только заседания по категории иммиграции. Постройте столбчатую диаграмму по суммарному числу заседаний, на котором присутствовал каждый судья. В ответ запишите имя судьи, который принимал участие в наибольшем количестве заседаний (например, Holmes)."
   ]
  },
  {
   "cell_type": "code",
   "execution_count": 20,
   "metadata": {},
   "outputs": [
    {
     "data": {
      "text/html": [
       "<div>\n",
       "<style scoped>\n",
       "    .dataframe tbody tr th:only-of-type {\n",
       "        vertical-align: middle;\n",
       "    }\n",
       "\n",
       "    .dataframe tbody tr th {\n",
       "        vertical-align: top;\n",
       "    }\n",
       "\n",
       "    .dataframe thead th {\n",
       "        text-align: right;\n",
       "    }\n",
       "</style>\n",
       "<table border=\"1\" class=\"dataframe\">\n",
       "  <thead>\n",
       "    <tr style=\"text-align: right;\">\n",
       "      <th></th>\n",
       "      <th>Title</th>\n",
       "      <th>Date</th>\n",
       "      <th>Issue</th>\n",
       "      <th>Judge1</th>\n",
       "      <th>Judge2</th>\n",
       "      <th>Judge3</th>\n",
       "      <th>Vote1</th>\n",
       "      <th>Vote2</th>\n",
       "      <th>Vote3</th>\n",
       "      <th>Category</th>\n",
       "      <th>DateF</th>\n",
       "      <th>Season</th>\n",
       "    </tr>\n",
       "  </thead>\n",
       "  <tbody>\n",
       "    <tr>\n",
       "      <th>400</th>\n",
       "      <td>Juan v. Lynch</td>\n",
       "      <td>12/06/16</td>\n",
       "      <td>1</td>\n",
       "      <td>Lucero</td>\n",
       "      <td>McHugh</td>\n",
       "      <td>Moritz</td>\n",
       "      <td>0</td>\n",
       "      <td>0</td>\n",
       "      <td>0</td>\n",
       "      <td>Immigration</td>\n",
       "      <td>2016-06-12</td>\n",
       "      <td>2</td>\n",
       "    </tr>\n",
       "    <tr>\n",
       "      <th>401</th>\n",
       "      <td>Zu¬Й√Ы√ТChen Horng v. Lynch</td>\n",
       "      <td>09/27/16</td>\n",
       "      <td>1</td>\n",
       "      <td>Tymkovich</td>\n",
       "      <td>Bacharach</td>\n",
       "      <td>Moritz</td>\n",
       "      <td>1</td>\n",
       "      <td>1</td>\n",
       "      <td>1</td>\n",
       "      <td>Immigration</td>\n",
       "      <td>2016-09-27</td>\n",
       "      <td>3</td>\n",
       "    </tr>\n",
       "    <tr>\n",
       "      <th>402</th>\n",
       "      <td>Osuna¬Й√Ы√ТGutierrez v. Johnson</td>\n",
       "      <td>09/22/16</td>\n",
       "      <td>1</td>\n",
       "      <td>Briscoe</td>\n",
       "      <td>Ebel</td>\n",
       "      <td>Bacharach</td>\n",
       "      <td>0</td>\n",
       "      <td>0</td>\n",
       "      <td>0</td>\n",
       "      <td>Immigration</td>\n",
       "      <td>2016-09-22</td>\n",
       "      <td>3</td>\n",
       "    </tr>\n",
       "  </tbody>\n",
       "</table>\n",
       "</div>"
      ],
      "text/plain": [
       "                               Title      Date  Issue     Judge1     Judge2  \\\n",
       "400                    Juan v. Lynch  12/06/16      1     Lucero     McHugh   \n",
       "401      Zu¬Й√Ы√ТChen Horng v. Lynch  09/27/16      1  Tymkovich  Bacharach   \n",
       "402  Osuna¬Й√Ы√ТGutierrez v. Johnson  09/22/16      1    Briscoe       Ebel   \n",
       "\n",
       "        Judge3  Vote1  Vote2  Vote3     Category      DateF  Season  \n",
       "400     Moritz      0      0      0  Immigration 2016-06-12       2  \n",
       "401     Moritz      1      1      1  Immigration 2016-09-27       3  \n",
       "402  Bacharach      0      0      0  Immigration 2016-09-22       3  "
      ]
     },
     "execution_count": 20,
     "metadata": {},
     "output_type": "execute_result"
    }
   ],
   "source": [
    "df_immigration = df[df['Category']=='Immigration']\n",
    "df_immigration.head(3)"
   ]
  },
  {
   "cell_type": "code",
   "execution_count": 21,
   "metadata": {},
   "outputs": [
    {
     "data": {
      "text/plain": [
       "<AxesSubplot:>"
      ]
     },
     "execution_count": 21,
     "metadata": {},
     "output_type": "execute_result"
    },
    {
     "data": {
      "image/png": "[encoded data removed]",
      "text/plain": [
       "<Figure size 432x288 with 1 Axes>"
      ]
     },
     "metadata": {
      "needs_background": "light"
     },
     "output_type": "display_data"
    }
   ],
   "source": [
    "pd_judge1 = df_immigration.groupby('Judge1').count()\n",
    "pd_judge2 = df_immigration.groupby('Judge2').count()\n",
    "pd_judge3 = df_immigration.groupby('Judge3').count()\n",
    "pd_judge = pd.concat([pd_judge1, pd_judge2, pd_judge3])\n",
    "\n",
    "# pd_judge.loc['Bacharach']\n",
    "# pd_judge.loc['Murphy']\n",
    "\n",
    "pd_judge.groupby(pd_judge.index)['Title'].sum().sort_values(ascending=False).plot(kind='bar')"
   ]
  },
  {
   "cell_type": "markdown",
   "metadata": {},
   "source": [
    "Определите, какие дела (переменная Title) рассматривались чаще всего. Постройте столбчатую диаграмму по суммарному числу таких заседаний, на котором присутствовал каждый судья. В ответ запишите имя судьи, который принимал участие в наибольшем количестве заседаний (например, Holmes)."
   ]
  },
  {
   "cell_type": "code",
   "execution_count": 22,
   "metadata": {},
   "outputs": [
    {
     "data": {
      "text/html": [
       "<div>\n",
       "<style scoped>\n",
       "    .dataframe tbody tr th:only-of-type {\n",
       "        vertical-align: middle;\n",
       "    }\n",
       "\n",
       "    .dataframe tbody tr th {\n",
       "        vertical-align: top;\n",
       "    }\n",
       "\n",
       "    .dataframe thead th {\n",
       "        text-align: right;\n",
       "    }\n",
       "</style>\n",
       "<table border=\"1\" class=\"dataframe\">\n",
       "  <thead>\n",
       "    <tr style=\"text-align: right;\">\n",
       "      <th></th>\n",
       "      <th>Title</th>\n",
       "      <th>Date</th>\n",
       "      <th>Issue</th>\n",
       "      <th>Judge1</th>\n",
       "      <th>Judge2</th>\n",
       "      <th>Judge3</th>\n",
       "      <th>Vote1</th>\n",
       "      <th>Vote2</th>\n",
       "      <th>Vote3</th>\n",
       "      <th>Category</th>\n",
       "      <th>DateF</th>\n",
       "      <th>Season</th>\n",
       "    </tr>\n",
       "  </thead>\n",
       "  <tbody>\n",
       "    <tr>\n",
       "      <th>69</th>\n",
       "      <td>Tabor v. Hilti, Inc.</td>\n",
       "      <td>09/02/14</td>\n",
       "      <td>1</td>\n",
       "      <td>Hartz</td>\n",
       "      <td>Tymkovich</td>\n",
       "      <td>Holmes</td>\n",
       "      <td>0</td>\n",
       "      <td>0</td>\n",
       "      <td>0</td>\n",
       "      <td>Title VII</td>\n",
       "      <td>2014-02-09</td>\n",
       "      <td>0</td>\n",
       "    </tr>\n",
       "    <tr>\n",
       "      <th>125</th>\n",
       "      <td>Tabor v. Hilti, Inc.</td>\n",
       "      <td>01/15/13</td>\n",
       "      <td>1</td>\n",
       "      <td>Lucero</td>\n",
       "      <td>O'Brien</td>\n",
       "      <td>Matheson</td>\n",
       "      <td>1</td>\n",
       "      <td>1</td>\n",
       "      <td>1</td>\n",
       "      <td>Title VII</td>\n",
       "      <td>2013-01-15</td>\n",
       "      <td>0</td>\n",
       "    </tr>\n",
       "    <tr>\n",
       "      <th>126</th>\n",
       "      <td>Tabor v. Hilti, Inc.</td>\n",
       "      <td>01/15/13</td>\n",
       "      <td>2</td>\n",
       "      <td>Lucero</td>\n",
       "      <td>O'Brien</td>\n",
       "      <td>Matheson</td>\n",
       "      <td>0</td>\n",
       "      <td>0</td>\n",
       "      <td>0</td>\n",
       "      <td>Title VII</td>\n",
       "      <td>2013-01-15</td>\n",
       "      <td>0</td>\n",
       "    </tr>\n",
       "  </tbody>\n",
       "</table>\n",
       "</div>"
      ],
      "text/plain": [
       "                    Title      Date  Issue  Judge1     Judge2    Judge3  \\\n",
       "69   Tabor v. Hilti, Inc.  09/02/14      1   Hartz  Tymkovich    Holmes   \n",
       "125  Tabor v. Hilti, Inc.  01/15/13      1  Lucero    O'Brien  Matheson   \n",
       "126  Tabor v. Hilti, Inc.  01/15/13      2  Lucero    O'Brien  Matheson   \n",
       "\n",
       "     Vote1  Vote2  Vote3   Category      DateF  Season  \n",
       "69       0      0      0  Title VII 2014-02-09       0  \n",
       "125      1      1      1  Title VII 2013-01-15       0  \n",
       "126      0      0      0  Title VII 2013-01-15       0  "
      ]
     },
     "execution_count": 22,
     "metadata": {},
     "output_type": "execute_result"
    }
   ],
   "source": [
    "df_mode = df[df['Title'].isin(df['Title'].mode())]\n",
    "df_mode.head(3)"
   ]
  },
  {
   "cell_type": "code",
   "execution_count": 23,
   "metadata": {},
   "outputs": [
    {
     "data": {
      "text/plain": [
       "<AxesSubplot:>"
      ]
     },
     "execution_count": 23,
     "metadata": {},
     "output_type": "execute_result"
    },
    {
     "data": {
      "image/png": "[encoded data removed]",
      "text/plain": [
       "<Figure size 432x288 with 1 Axes>"
      ]
     },
     "metadata": {
      "needs_background": "light"
     },
     "output_type": "display_data"
    }
   ],
   "source": [
    "pd_judge1 = df_mode.groupby('Judge1').count()\n",
    "pd_judge2 = df_mode.groupby('Judge2').count()\n",
    "pd_judge3 = df_mode.groupby('Judge3').count()\n",
    "pd_judge = pd.concat([pd_judge1, pd_judge2, pd_judge3])\n",
    "\n",
    "# pd_judge.loc['Bacharach']\n",
    "# pd_judge.loc['Murphy']\n",
    "\n",
    "pd_judge.groupby(pd_judge.index)['Title'].sum().sort_values(ascending=False).plot(kind='bar')"
   ]
  },
  {
   "cell_type": "markdown",
   "metadata": {},
   "source": [
    "Обратите внимание на то, как в каждом деле голосовали судьи. Постройте столбчатую диаграмму и определите, каких решений, принятых большинством (2 и более) голосов, больше. Укажите, верно ли следующее утверждение: решений, где большинство судей голосовало консервативно, больше."
   ]
  },
  {
   "cell_type": "code",
   "execution_count": 24,
   "metadata": {},
   "outputs": [
    {
     "data": {
      "text/html": [
       "<div>\n",
       "<style scoped>\n",
       "    .dataframe tbody tr th:only-of-type {\n",
       "        vertical-align: middle;\n",
       "    }\n",
       "\n",
       "    .dataframe tbody tr th {\n",
       "        vertical-align: top;\n",
       "    }\n",
       "\n",
       "    .dataframe thead th {\n",
       "        text-align: right;\n",
       "    }\n",
       "</style>\n",
       "<table border=\"1\" class=\"dataframe\">\n",
       "  <thead>\n",
       "    <tr style=\"text-align: right;\">\n",
       "      <th></th>\n",
       "      <th>Title</th>\n",
       "      <th>Date</th>\n",
       "      <th>Issue</th>\n",
       "      <th>Judge1</th>\n",
       "      <th>Judge2</th>\n",
       "      <th>Judge3</th>\n",
       "      <th>Vote1</th>\n",
       "      <th>Vote2</th>\n",
       "      <th>Vote3</th>\n",
       "      <th>Category</th>\n",
       "      <th>DateF</th>\n",
       "      <th>Season</th>\n",
       "      <th>Vote Count</th>\n",
       "      <th>Vote Group</th>\n",
       "    </tr>\n",
       "  </thead>\n",
       "  <tbody>\n",
       "    <tr>\n",
       "      <th>0</th>\n",
       "      <td>Hansen v. SkyWest Airlines</td>\n",
       "      <td>12/21/16</td>\n",
       "      <td>1</td>\n",
       "      <td>Briscoe</td>\n",
       "      <td>McKay</td>\n",
       "      <td>Matheson</td>\n",
       "      <td>1</td>\n",
       "      <td>1</td>\n",
       "      <td>1</td>\n",
       "      <td>Title VII</td>\n",
       "      <td>2016-12-21</td>\n",
       "      <td>0</td>\n",
       "      <td>3</td>\n",
       "      <td>True</td>\n",
       "    </tr>\n",
       "    <tr>\n",
       "      <th>1</th>\n",
       "      <td>Hansen v. SkyWest Airlines</td>\n",
       "      <td>12/21/16</td>\n",
       "      <td>2</td>\n",
       "      <td>Briscoe</td>\n",
       "      <td>McKay</td>\n",
       "      <td>Matheson</td>\n",
       "      <td>0</td>\n",
       "      <td>0</td>\n",
       "      <td>0</td>\n",
       "      <td>Title VII</td>\n",
       "      <td>2016-12-21</td>\n",
       "      <td>0</td>\n",
       "      <td>0</td>\n",
       "      <td>False</td>\n",
       "    </tr>\n",
       "    <tr>\n",
       "      <th>2</th>\n",
       "      <td>Glapion v. Jewell</td>\n",
       "      <td>12/14/16</td>\n",
       "      <td>1</td>\n",
       "      <td>Lucero</td>\n",
       "      <td>Holmes</td>\n",
       "      <td>Moritz</td>\n",
       "      <td>0</td>\n",
       "      <td>0</td>\n",
       "      <td>0</td>\n",
       "      <td>Title VII</td>\n",
       "      <td>2016-12-14</td>\n",
       "      <td>0</td>\n",
       "      <td>0</td>\n",
       "      <td>False</td>\n",
       "    </tr>\n",
       "  </tbody>\n",
       "</table>\n",
       "</div>"
      ],
      "text/plain": [
       "                        Title      Date  Issue   Judge1  Judge2    Judge3  \\\n",
       "0  Hansen v. SkyWest Airlines  12/21/16      1  Briscoe   McKay  Matheson   \n",
       "1  Hansen v. SkyWest Airlines  12/21/16      2  Briscoe   McKay  Matheson   \n",
       "2           Glapion v. Jewell  12/14/16      1   Lucero  Holmes    Moritz   \n",
       "\n",
       "   Vote1  Vote2  Vote3   Category      DateF  Season  Vote Count  Vote Group  \n",
       "0      1      1      1  Title VII 2016-12-21       0           3        True  \n",
       "1      0      0      0  Title VII 2016-12-21       0           0       False  \n",
       "2      0      0      0  Title VII 2016-12-14       0           0       False  "
      ]
     },
     "execution_count": 24,
     "metadata": {},
     "output_type": "execute_result"
    }
   ],
   "source": [
    "df['Vote Count'] = df['Vote1'] + df['Vote2'] + df['Vote3']\n",
    "df['Vote Group'] = df['Vote Count'] > 1\n",
    "df.head(3)"
   ]
  },
  {
   "cell_type": "code",
   "execution_count": 25,
   "metadata": {},
   "outputs": [
    {
     "data": {
      "text/plain": [
       "<AxesSubplot:xlabel='Vote Group'>"
      ]
     },
     "execution_count": 25,
     "metadata": {},
     "output_type": "execute_result"
    },
    {
     "data": {
      "image/png": "[encoded data removed]",
      "text/plain": [
       "<Figure size 432x288 with 1 Axes>"
      ]
     },
     "metadata": {
      "needs_background": "light"
     },
     "output_type": "display_data"
    }
   ],
   "source": [
    "df.groupby('Vote Group')['Vote Group'].count().plot(kind='bar')"
   ]
  },
  {
   "cell_type": "markdown",
   "metadata": {},
   "source": [
    "Выберите только те заседания, в которых участвовал судья Lucero. Постройте линейный график и определите, в каком году он участвовал в заседаниях меньше всего. Будьте внимательны — даты записаны в формате месяц/день/год. В ответ запишите целое число (например, 2016)."
   ]
  },
  {
   "cell_type": "code",
   "execution_count": 26,
   "metadata": {},
   "outputs": [
    {
     "data": {
      "text/plain": [
       "<AxesSubplot:xlabel='DateF'>"
      ]
     },
     "execution_count": 26,
     "metadata": {},
     "output_type": "execute_result"
    },
    {
     "data": {
      "image/png": "[encoded data removed]",
      "text/plain": [
       "<Figure size 432x288 with 1 Axes>"
      ]
     },
     "metadata": {
      "needs_background": "light"
     },
     "output_type": "display_data"
    }
   ],
   "source": [
    "df_lucero = df[(df['Judge1']=='Lucero')|(df['Judge2']=='Lucero')|(df['Judge3']=='Lucero')]\n",
    "df_lucero.groupby(df['DateF'].dt.year).count()['DateF'].sort_values(ascending=False).plot(kind='bar')"
   ]
  }
 ],
 "metadata": {
  "interpreter": {
   "hash": "a52ae00c95c18ba478ad15eab76962cf8874bd0c241644c8193467a4b82be365"
  },
  "kernelspec": {
   "display_name": "Python 3.9.7 ('base')",
   "language": "python",
   "name": "python3"
  },
  "language_info": {
   "codemirror_mode": {
    "name": "ipython",
    "version": 3
   },
   "file_extension": ".py",
   "mimetype": "text/x-python",
   "name": "python",
   "nbconvert_exporter": "python",
   "pygments_lexer": "ipython3",
   "version": "3.9.7"
  },
  "orig_nbformat": 4
 },
 "nbformat": 4,
 "nbformat_minor": 2
}
